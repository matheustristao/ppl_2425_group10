{
 "cells": [
  {
   "cell_type": "code",
   "execution_count": 264,
   "metadata": {},
   "outputs": [],
   "source": [
    "import pandas as pd\n",
    "import matplotlib.pyplot as plt\n",
    "import seaborn as sns"
   ]
  },
  {
   "cell_type": "code",
   "execution_count": 265,
   "metadata": {},
   "outputs": [],
   "source": [
    "#Global Variables\n",
    "\n",
    "# File names\n",
    "## Import\n",
    "csvFile = 'vgsales-12-4-2019.csv'\n",
    "\n",
    "## Export\n",
    "excelFileName = 'ficheiro.xlsx'\n",
    "tab1Name = 'Raw Data'\n",
    "tab2Name = 'Platform Rank'\n",
    "\n",
    "# Pandas CSV configuration\n",
    "encodingName = 'utf8'\n",
    "separator = ','\n",
    "\n",
    "# Pandas XLS configuration\n",
    "engineName = 'xlsxwriter'\n",
    "\n",
    "# Lê o ficheiro csv e guarda como um DataFrame\n",
    "#file = pd.read_csv(csvFile,sep=separator,encoding=encodingName)\n",
    "\n",
    "# Lista de colunas a introduzir nas diferentes funções para limpeza e pré-processamento do DataFrame\n",
    "list_columns_eliminar = ['Rank','basename','VGChartz_Score','Critic_Score','User_Score','Total_Shipped','Last_Update','url']\n",
    "list_columns_elimnar_linhas_ifnull = ['Genre','Platform','Publisher','Developer','Global_Sales','Year']\n",
    "list_colunas_fill_nulls = ['NA_Sales', 'PAL_Sales', 'JP_Sales', 'Other_Sales']"
   ]
  },
  {
   "cell_type": "markdown",
   "metadata": {},
   "source": [
    "Início Matheus"
   ]
  },
  {
   "cell_type": "code",
   "execution_count": 266,
   "metadata": {},
   "outputs": [],
   "source": [
    "# Essa função é reponsável pelo load de um ficheiro CSV \n",
    "def extract_base(inCSVName):\n",
    "    load_file = pd.read_csv(inCSVName,sep=separator,encoding=encodingName)\n",
    "    return load_file"
   ]
  },
  {
   "cell_type": "code",
   "execution_count": 267,
   "metadata": {},
   "outputs": [],
   "source": [
    "#Essa função é responsável por remover a primeira coluna de index do ficheiro o parâmetro axis=1 indica que o drop é na coluna.\n",
    "def transform_remove_index(inFile):\n",
    "    return inFile.drop(inFile.columns[0], axis=1)"
   ]
  },
  {
   "cell_type": "code",
   "execution_count": 268,
   "metadata": {},
   "outputs": [],
   "source": [
    "# Essa função é responsável por criar uma porcentagem de linhas null\n",
    "def count_null(inFile,inColumn):\n",
    "    totalRows = len(inFile)\n",
    "    countNull = 0\n",
    "    for i, row in inFile.iterrows():\n",
    "        if pd.isnull(row[inColumn]):\n",
    "            countNull += 1\n",
    "    porcent = round((countNull * 100) / totalRows,2)\n",
    "    return porcent"
   ]
  },
  {
   "cell_type": "code",
   "execution_count": 269,
   "metadata": {},
   "outputs": [],
   "source": [
    "# Essa função converte uma coluna para int, mas antes preenche null values como 0\n",
    "def convert_int(inFile,inColumn):\n",
    "    inFile[inColumn] = inFile[inColumn].fillna(0)\n",
    "    inFile[inColumn] = inFile[inColumn].astype(int)\n",
    "    return inFile"
   ]
  },
  {
   "cell_type": "code",
   "execution_count": 270,
   "metadata": {},
   "outputs": [],
   "source": [
    "# Essa função recebe como parâmetro o pd.ExcelWriter, o file e a tab do excel e escreve no ficheiro\n",
    "def write_xls(inWriter,inFile,inTab):\n",
    "    inFile.to_excel(inWriter, sheet_name=inTab,index=False)"
   ]
  },
  {
   "cell_type": "markdown",
   "metadata": {},
   "source": [
    "Fim Matheus"
   ]
  },
  {
   "cell_type": "markdown",
   "metadata": {},
   "source": [
    "Início Nuno"
   ]
  },
  {
   "cell_type": "code",
   "execution_count": 271,
   "metadata": {},
   "outputs": [],
   "source": [
    "# Função para preencher com zeros as colunas com vazios\n",
    "\n",
    "def fill_null(df, *column_name ,fill_value=0):\n",
    "    for column in column_name:\n",
    "        if column in df.columns:\n",
    "            df[column] = df[column].fillna(fill_value)\n",
    "    return df"
   ]
  },
  {
   "cell_type": "code",
   "execution_count": 272,
   "metadata": {},
   "outputs": [],
   "source": [
    "# Função responsável somar valores de uma coluna e agrupar por uma ou mais colunas\n",
    "# O reset index cria indexes para a nova lista criada\n",
    "# A função sort_values ordena os dados por ordem descendente da soma\n",
    "# No final é renomeada a coluna da soma para o nome que se quiser\n",
    "\n",
    "def sum_column_by_group(df, column, group_by_column, new_column_name='Sum'):\n",
    "    group_by_list = group_by_column.split(',')\n",
    "    \n",
    "    df_sum_grouped = df.groupby(group_by_list)[column].sum().reset_index()\n",
    "    df_sum_sorted = df_sum_grouped.sort_values(by=column, ascending = True).reset_index()\n",
    "    df_sum_sorted.rename(columns={column: new_column_name}, inplace = True)\n",
    "    return df_sum_grouped"
   ]
  },
  {
   "cell_type": "code",
   "execution_count": 273,
   "metadata": {},
   "outputs": [],
   "source": [
    "# Função responsável por cacular a média dos valores de uma coluna e agrupar por uma ou mais colunas\n",
    "# O reset index cria indexes para a nova lista criada\n",
    "# A função sort_values ordena os dados por ordem descendente da média\n",
    "# No final é renomeada a coluna da soma para o nome que se quiser\n",
    "\n",
    "def mean_column_by_group(df, column, *group_by_column, new_column_name='Average'):\n",
    "    group_by_list = list(group_by_column) \n",
    "\n",
    "    df_mean_grouped = df.groupby(group_by_list)[column].mean().reset_index()\n",
    "    df_mean_sorted = df_mean_grouped.sort_values(by=column, ascending = True).reset_index()\n",
    "    df_mean_sorted.rename(columns={column: new_column_name}, inplace = True)\n",
    "    return df_mean_sorted"
   ]
  },
  {
   "cell_type": "code",
   "execution_count": 274,
   "metadata": {},
   "outputs": [],
   "source": [
    "def plot_game_sales_trends(df, x_column, y_column, hue_column, title_name, xlabel_name, ylabel_name, legend_name, marker_type='o'):\n",
    "    # Set the plot size\n",
    "    plt.figure(figsize=(12, 6))\n",
    "    \n",
    "    # Create a line plot\n",
    "    sns.lineplot(data=df, x=x_column, y=y_column, hue=hue_column, marker=marker_type)\n",
    "    \n",
    "    # Add titles and labels\n",
    "    plt.title(title_name)\n",
    "    plt.xlabel(xlabel_name)\n",
    "    plt.ylabel(ylabel_name)\n",
    "    plt.legend(title=legend_name)\n",
    "    \n",
    "    # Show the plot\n",
    "    plt.show()"
   ]
  },
  {
   "cell_type": "markdown",
   "metadata": {},
   "source": [
    "Fim Nuno"
   ]
  },
  {
   "cell_type": "markdown",
   "metadata": {},
   "source": [
    "Início Diogo"
   ]
  },
  {
   "cell_type": "code",
   "execution_count": 275,
   "metadata": {},
   "outputs": [],
   "source": [
    "# Essa função filtra da lista apenas linhas onde uma coluna não é null\n",
    "def filter_global_sales_not_null(file,column):\n",
    "    try:\n",
    "        filtered_file= file[file[column].notnull()]\n",
    "        return filtered_file\n",
    "    except:\n",
    "        print(f'Column {column} not in DataFrame')"
   ]
  },
  {
   "cell_type": "markdown",
   "metadata": {},
   "source": [
    "Fim Diogo"
   ]
  },
  {
   "cell_type": "markdown",
   "metadata": {},
   "source": [
    "Início Jesus"
   ]
  },
  {
   "cell_type": "code",
   "execution_count": 276,
   "metadata": {},
   "outputs": [],
   "source": [
    "### Função `eliminar_columnas`\n",
    "\n",
    "#Esta função recebe um DataFrame e uma lista de colunas a serem removidas. Ela utiliza o método `drop()` do pandas para eliminar as colunas especificadas, ignorando erros caso alguma #coluna não exista no DataFrame.\n",
    "\n",
    "#### Parâmetros:\n",
    "#- **infile**: DataFrame original que será modificado.\n",
    "#- **columnas_a_eliminar**: Lista de colunas a serem removidas do DataFrame.\n",
    "\n",
    "#### Retorno:\n",
    "# Um novo DataFrame sem as colunas especificadas.\n",
    "\n",
    "def eliminar_columnas(infile, columnas_a_eliminar):\n",
    "    # Eliminar las columnas especificadas\n",
    "    df = infile.drop(columns=columnas_a_eliminar, errors='ignore')\n",
    "    \n",
    "    # Retornar el DataFrame modificado\n",
    "    return df"
   ]
  },
  {
   "cell_type": "markdown",
   "metadata": {},
   "source": [
    "Fim Jesus"
   ]
  },
  {
   "cell_type": "markdown",
   "metadata": {},
   "source": [
    "Fluxo principal da aplicação"
   ]
  },
  {
   "cell_type": "markdown",
   "metadata": {},
   "source": [
    "#1 Extraction"
   ]
  },
  {
   "cell_type": "code",
   "execution_count": 277,
   "metadata": {},
   "outputs": [],
   "source": [
    "writer = pd.ExcelWriter(excelFileName, engine=engineName)\n",
    "file = extract_base(csvFile)"
   ]
  },
  {
   "cell_type": "markdown",
   "metadata": {},
   "source": [
    "#2 Transform"
   ]
  },
  {
   "cell_type": "code",
   "execution_count": 278,
   "metadata": {},
   "outputs": [
    {
     "name": "stdout",
     "output_type": "stream",
     "text": [
      "   Platform  Global_Sales\n",
      "0      2600         89.27\n",
      "1       3DO          0.19\n",
      "2       3DS        117.77\n",
      "3        DC         13.65\n",
      "4        DS        469.65\n",
      "5        GB         25.43\n",
      "6       GBA        231.41\n",
      "7       GBC          4.34\n",
      "8        GC        121.54\n",
      "9       GEN         18.83\n",
      "10       GG          0.04\n",
      "11      Mob          0.08\n",
      "12      N64        100.62\n",
      "13      NES         47.93\n",
      "14       NG          1.44\n",
      "15       NS         49.88\n",
      "16      OSX          0.03\n",
      "17       PC        198.54\n",
      "18      PCE          0.16\n",
      "19     PCFX          0.03\n",
      "20       PS        627.06\n",
      "21      PS2       1103.62\n",
      "22      PS3        905.72\n",
      "23      PS4        585.09\n",
      "24      PSN          3.90\n",
      "25      PSP        263.71\n",
      "26      PSV         65.37\n",
      "27      SAT         33.67\n",
      "28      SCD          1.87\n",
      "29     SNES         69.45\n",
      "30       VC          0.35\n",
      "31       WS          1.43\n",
      "32       WW          0.25\n",
      "33      Wii        500.39\n",
      "34     WiiU         37.54\n",
      "35     X360        889.49\n",
      "36       XB        237.72\n",
      "37      XBL          0.22\n",
      "38     XOne        278.56\n"
     ]
    }
   ],
   "source": [
    "# Matheus\n",
    "file = transform_remove_index(file)\n",
    "file = convert_int(file,'Year')\n",
    "\n",
    "# Diogo\n",
    "file = filter_global_sales_not_null(file,'Global_Sales')\n",
    "\n",
    "# Jesus\n",
    "columnas_a_eliminar = ['Index', 'Rank', 'Critic_Score', 'User_Score', 'Total_Shipped']\n",
    "file = eliminar_columnas(file,columnas_a_eliminar )\n",
    "\n",
    "\n",
    "# Nuno\n",
    "sum_global_by_platform = sum_column_by_group(file, 'Global_Sales', 'Platform', 'Total_Global_Sales')\n",
    "\n"
   ]
  },
  {
   "cell_type": "markdown",
   "metadata": {},
   "source": [
    "#3 Load"
   ]
  },
  {
   "cell_type": "code",
   "execution_count": 279,
   "metadata": {},
   "outputs": [],
   "source": [
    "write_xls(writer,file,tab1Name)\n",
    "write_xls(writer,sum_global_by_platform,tab2Name)\n",
    "\n",
    "writer.close()"
   ]
  }
 ],
 "metadata": {
  "kernelspec": {
   "display_name": "Python 3",
   "language": "python",
   "name": "python3"
  },
  "language_info": {
   "codemirror_mode": {
    "name": "ipython",
    "version": 3
   },
   "file_extension": ".py",
   "mimetype": "text/x-python",
   "name": "python",
   "nbconvert_exporter": "python",
   "pygments_lexer": "ipython3",
   "version": "3.12.6"
  }
 },
 "nbformat": 4,
 "nbformat_minor": 2
}
