{
 "cells": [
  {
   "cell_type": "markdown",
   "metadata": {},
   "source": [
    "# PROJETO FINAL: TURMA 01 - GRUPO XX\n",
    "\n",
    "# Integrantes:\n",
    "\n",
    "i29089 - Nuno Pimentel\n",
    "\n",
    "i31332 - Jesus Alban\n",
    "\n",
    "i31433 - Matheus Anjos\n",
    "\n",
    "i31476 - Diogo Gomes\n",
    "\n",
    "# Objetivos:\n",
    "Análise de tendencias relativamente à venda de jogos em diversas plataformas e em diversos países"
   ]
  },
  {
   "cell_type": "code",
   "execution_count": 54,
   "metadata": {},
   "outputs": [],
   "source": [
    "import pandas as pd\n",
    "import matplotlib.pyplot as plt\n",
    "import seaborn as sns"
   ]
  },
  {
   "cell_type": "code",
   "execution_count": 55,
   "metadata": {},
   "outputs": [],
   "source": [
    "#Variaveis Globais\n",
    "\n",
    "## Ficheiro CSV de importação\n",
    "csvFile = 'vgsales-12-4-2019.csv'\n",
    "\n",
    "## Variaveis a adicionar ao ficheiro de exportação\n",
    "excelFileName = 'ficheiro.xlsx'\n",
    "tab1Name = 'Raw Data'\n",
    "tab2Name = 'Platform Rank'\n",
    "tab3Name = 'Genre Rank'\n",
    "\n",
    "# Configuração Pandas CSV\n",
    "encodingName = 'utf8'\n",
    "separator = ','\n",
    "\n",
    "# Configuração do Pandas XLS\n",
    "engineName = 'xlsxwriter'\n",
    "\n",
    "# lista de colunas para a limpeza e pre-processamento dos dados\n",
    "list_columns_delete = ['Rank','basename','VGChartz_Score','Critic_Score','User_Score','Total_Shipped','Last_Update','url','status','Vgchartzscore','img_url','ESRB_Rating']\n",
    "list_columns_delete_lines_ifnull = ['Genre','Platform','Publisher','Developer','Global_Sales','Year']\n",
    "list_columns_fill_nulls = ['NA_Sales', 'PAL_Sales', 'JP_Sales', 'Other_Sales']\n",
    "\n",
    "# Definições gráficas\n",
    "top_10_sum_image = 'top_10_sum_image.png'"
   ]
  },
  {
   "cell_type": "markdown",
   "metadata": {},
   "source": [
    "Definição das funções relevantes para os objetivos propostos para o projeto final"
   ]
  },
  {
   "cell_type": "code",
   "execution_count": 56,
   "metadata": {},
   "outputs": [],
   "source": [
    "# Função para remover a coluna de index de uma dataframe\n",
    "def transform_remove_index(df):\n",
    "    return df.drop(df.columns[0], axis=1)"
   ]
  },
  {
   "cell_type": "code",
   "execution_count": 57,
   "metadata": {},
   "outputs": [],
   "source": [
    "# Função para eliminar colunas de um dataframe\n",
    "\n",
    "def delete_columns(df, *columns_to_delete):\n",
    "    columns_list = list(columns_to_delete)\n",
    "    df = df.drop(columns=columns_list, errors='ignore')\n",
    "    return df"
   ]
  },
  {
   "cell_type": "code",
   "execution_count": 58,
   "metadata": {},
   "outputs": [],
   "source": [
    "# Função que filtra o dataframe com base nos valores não nulos de uma coluna\n",
    "\n",
    "def filter_not_null(df,*columns_filter):\n",
    "    try:\n",
    "        filtered_df = df\n",
    "        columns_list = list(columns_filter)\n",
    "        for column in columns_list:\n",
    "            if column in df.columns:\n",
    "                filtered_df = filtered_df[filtered_df[column].notnull()]\n",
    "        return filtered_df\n",
    "    except:\n",
    "        print(f'Column {column} not in DataFrame')"
   ]
  },
  {
   "cell_type": "code",
   "execution_count": 59,
   "metadata": {},
   "outputs": [],
   "source": [
    "# Função que converte os valores de uma ou mais colunas em integer\n",
    "\n",
    "def convert_int(df,*inColumn):\n",
    "    columns_list = list(inColumn)\n",
    "    for column in columns_list:\n",
    "        if column in df.columns:\n",
    "            df[column] = df[column].astype(int)\n",
    "    return df"
   ]
  },
  {
   "cell_type": "code",
   "execution_count": 60,
   "metadata": {},
   "outputs": [],
   "source": [
    "# Função que preenche os vazios de uma ou mais colunas\n",
    "\n",
    "def fill_null(df, *column_name ,fill_value=0):\n",
    "    for column in column_name:\n",
    "        if column in df.columns:\n",
    "            df[column] = df[column].fillna(fill_value)\n",
    "    return df"
   ]
  },
  {
   "cell_type": "code",
   "execution_count": 61,
   "metadata": {},
   "outputs": [],
   "source": [
    "# AVALIAR SE VAI PARA A VERSÃO FINAL\n",
    "\n",
    "# Essa função é responsável por criar uma percentagem de linhas null\n",
    "def count_null(df,inColumn):\n",
    "    totalRows = len(df)\n",
    "    countNull = 0\n",
    "    for i, row in df.iterrows():\n",
    "        if pd.isnull(row[inColumn]):\n",
    "            countNull += 1\n",
    "    percent = round((countNull * 100) / totalRows,2)\n",
    "    return percent"
   ]
  },
  {
   "cell_type": "code",
   "execution_count": 62,
   "metadata": {},
   "outputs": [],
   "source": [
    "# ADAPTAR O CÓDIGO PARA VÁRIOS DF E TABS\n",
    "\n",
    "# Essa função recebe como parâmetro o pd.ExcelWriter, o file e a tab do excel e escreve no ficheiro\n",
    "def write_xls(inWriter,df,inTab):\n",
    "    # Falta código para escrever no ficheiro\n",
    "    df.to_excel(inWriter, sheet_name=inTab,index=False)"
   ]
  },
  {
   "cell_type": "code",
   "execution_count": 63,
   "metadata": {},
   "outputs": [],
   "source": [
    "# Função responsável somar valores de uma coluna e agrupar por uma ou mais colunas\n",
    "# O reset index cria indexes para a nova lista criada\n",
    "# A função sort_values ordena os dados por ordem descendente da soma\n",
    "# No final é renomeada a coluna da soma para o nome que se quiser\n",
    "\n",
    "def sum_column_by_group(df, column, *group_by_column, new_column_name='Sum'):\n",
    "    group_by_list = list(group_by_column)\n",
    "    df_sum_grouped = df.groupby(group_by_list)[column].sum().reset_index()\n",
    "    \n",
    "    df_sum_sorted = df_sum_grouped.sort_values(by=column, ascending = False).reset_index(drop=True)\n",
    "    df_sum_sorted.rename(columns={column: new_column_name}, inplace = True)\n",
    "    return df_sum_sorted"
   ]
  },
  {
   "cell_type": "code",
   "execution_count": 64,
   "metadata": {},
   "outputs": [],
   "source": [
    "# Função responsável por cacular a média dos valores de uma coluna e agrupar por uma ou mais colunas\n",
    "# O reset index cria indexes para a nova lista criada\n",
    "# A função sort_values ordena os dados por ordem descendente da média\n",
    "# No final é renomeada a coluna da soma para o nome que se quiser\n",
    "\n",
    "def mean_column_by_group(df, column, *group_by_column, new_column_name='Average'):\n",
    "    group_by_list = list(group_by_column)\n",
    "    df_mean_grouped = df.groupby(group_by_list)[column].mean().reset_index()\n",
    "    \n",
    "    df_mean_sorted = df_mean_grouped.sort_values(by=column, ascending = False).reset_index(drop=True)\n",
    "    df_mean_sorted.rename(columns={column: new_column_name}, inplace = True)\n",
    "    return df_mean_sorted"
   ]
  },
  {
   "cell_type": "code",
   "execution_count": 65,
   "metadata": {},
   "outputs": [],
   "source": [
    "# Função calcula a percentagem dos valores de uma coluna em função de um grupo\n",
    "\n",
    "def percentage_by_group(df,inColumnMeasure,total_column_name,group_by_column,new_column_name='percentage'):\n",
    "    total_sum = df[inColumnMeasure].sum()\n",
    "    Sum_per_group = sum_column_by_group(df, inColumnMeasure, group_by_column, new_column_name=total_column_name)\n",
    "    i = 0    \n",
    "    while i < len(Sum_per_group):\n",
    "        Sum_per_group.loc[i, new_column_name] = round(Sum_per_group.loc[i, total_column_name] / total_sum * 100,2)\n",
    "        i += 1\n",
    "\n",
    "    Sum_per_group = Sum_per_group.sort_values(by=new_column_name, ascending = False).reset_index(drop=True)\n",
    "\n",
    "    return Sum_per_group\n"
   ]
  },
  {
   "cell_type": "code",
   "execution_count": 66,
   "metadata": {},
   "outputs": [],
   "source": [
    "# Função com a configuração para o plot de um gráfico de linhas\n",
    "\n",
    "def plot_trends(df, x_column, y_column, hue_column, title_name, xlabel_name, ylabel_name, legend_name, marker_type='o'):\n",
    "    # Set the plot size\n",
    "    plt.figure(figsize=(12, 6))\n",
    "    \n",
    "    # Create a line plot\n",
    "    sns.lineplot(data=df, x=x_column, y=y_column, hue=hue_column, marker=marker_type)\n",
    "    \n",
    "    # Add titles and labels\n",
    "    plt.title(title_name)\n",
    "    plt.xlabel(xlabel_name)\n",
    "    plt.ylabel(ylabel_name)\n",
    "    plt.legend(title=legend_name)\n",
    "    \n",
    "    # Show the plot\n",
    "    plt.show()"
   ]
  },
  {
   "cell_type": "code",
   "execution_count": 67,
   "metadata": {},
   "outputs": [],
   "source": [
    "# Função com a configuração para o plot de um gráfico de barras\n",
    "\n",
    "def plot_trends_bar(df, x_column, y_column, title_name, xlabel_name, ylabel_name, legend_name, image_name):\n",
    "    # Set the plot size\n",
    "    plt.figure(figsize=(12, 6))\n",
    "    \n",
    "    # Create a line plot\n",
    "    sns.barplot(x=x_column,y=y_column,data=df)\n",
    "    \n",
    "    # Add titles and labels\n",
    "    plt.title(title_name)\n",
    "    plt.xlabel(xlabel_name)\n",
    "    plt.ylabel(ylabel_name)\n",
    "    plt.legend(title=legend_name)\n",
    "\n",
    "    plt.legend(title=legend_name)\n",
    "    plt.savefig(image_name)\n",
    "\n",
    "    plt.show()\n"
   ]
  },
  {
   "cell_type": "markdown",
   "metadata": {},
   "source": [
    "# Tarefa 1: Extração de dados"
   ]
  },
  {
   "cell_type": "code",
   "execution_count": 68,
   "metadata": {},
   "outputs": [],
   "source": [
    "file = pd.read_csv(csvFile,sep=separator,encoding=encodingName)"
   ]
  },
  {
   "cell_type": "markdown",
   "metadata": {},
   "source": [
    "# Tarefa 2:  Limpeza e Pré-Processamento de Dados"
   ]
  },
  {
   "cell_type": "code",
   "execution_count": 69,
   "metadata": {},
   "outputs": [],
   "source": [
    "file = transform_remove_index(file)\n",
    "\n",
    "file = delete_columns(file,*list_columns_delete)\n",
    "file = filter_not_null(file,*list_columns_delete_lines_ifnull)\n",
    "file = convert_int(file,'Year')\n",
    "file = fill_null(file, *list_columns_fill_nulls)"
   ]
  },
  {
   "cell_type": "markdown",
   "metadata": {},
   "source": [
    "# Tarefa 3: Exploratory Data Analysis (EDA)"
   ]
  },
  {
   "cell_type": "code",
   "execution_count": 70,
   "metadata": {},
   "outputs": [
    {
     "name": "stderr",
     "output_type": "stream",
     "text": [
      "C:\\Users\\mathe\\AppData\\Local\\Temp\\ipykernel_6984\\4073139822.py:14: UserWarning: No artists with labels found to put in legend.  Note that artists whose label start with an underscore are ignored when legend() is called with no argument.\n",
      "  plt.legend(title=legend_name)\n",
      "C:\\Users\\mathe\\AppData\\Local\\Temp\\ipykernel_6984\\4073139822.py:16: UserWarning: No artists with labels found to put in legend.  Note that artists whose label start with an underscore are ignored when legend() is called with no argument.\n",
      "  plt.legend(title=legend_name)\n"
     ]
    },
    {
     "data": {
      "image/png": "[encoded data removed]",
      "text/plain": [
       "<Figure size 1200x600 with 1 Axes>"
      ]
     },
     "metadata": {},
     "output_type": "display_data"
    },
    {
     "name": "stderr",
     "output_type": "stream",
     "text": [
      "C:\\Users\\mathe\\AppData\\Local\\Temp\\ipykernel_6984\\4073139822.py:14: UserWarning: No artists with labels found to put in legend.  Note that artists whose label start with an underscore are ignored when legend() is called with no argument.\n",
      "  plt.legend(title=legend_name)\n",
      "C:\\Users\\mathe\\AppData\\Local\\Temp\\ipykernel_6984\\4073139822.py:16: UserWarning: No artists with labels found to put in legend.  Note that artists whose label start with an underscore are ignored when legend() is called with no argument.\n",
      "  plt.legend(title=legend_name)\n"
     ]
    },
    {
     "data": {
      "image/png": "[encoded data removed]",
      "text/plain": [
       "<Figure size 1200x600 with 1 Axes>"
      ]
     },
     "metadata": {},
     "output_type": "display_data"
    }
   ],
   "source": [
    "# Total de vendas por plataforma\n",
    "sum_global_by_platform = sum_column_by_group(file, 'Global_Sales', 'Platform', new_column_name='Total_Global_Sales')\n",
    "\n",
    "# Top 10 plataformas com mais vendas globais\n",
    "top_10_global_sales_platforms = sum_global_by_platform.head(10)\n",
    "\n",
    "# Aqui o file principal é filtrado somente por as 10 plataformas que mais venderam\n",
    "file_filtered_top_10_sales = file[file['Platform'].isin(top_10_global_sales_platforms['Platform'])]\n",
    "\n",
    "# Média de vendas entre as 10 plataformas que mais venderam jogos\n",
    "mean_global_by_platform = mean_column_by_group(file_filtered_top_10_sales, 'Global_Sales', 'Platform', new_column_name='Average_Global_Sales')\n",
    "\n",
    "# Porcentagem de vendas por Género\n",
    "percentage_by_group = percentage_by_group(file,'Global_Sales','Total_Genre_Global_Sales','Genre',new_column_name ='Percentage')\n",
    "\n",
    "plot_trends_bar(top_10_global_sales_platforms, 'Platform', 'Total_Global_Sales', 'Sales by Console', 'Console Name', 'Total Sales','Top 10',top_10_sum_image)\n",
    "plot_trends_bar(mean_global_by_platform.head(10), 'Platform', 'Average_Global_Sales', 'Average Sales by Console', 'Console Name', 'Average Sales','-',top_10_sum_image)\n"
   ]
  },
  {
   "cell_type": "markdown",
   "metadata": {},
   "source": [
    "# Tarefa 4: Gravar dados em ficheiro Excel"
   ]
  },
  {
   "cell_type": "code",
   "execution_count": 71,
   "metadata": {},
   "outputs": [
    {
     "name": "stderr",
     "output_type": "stream",
     "text": [
      "c:\\Program Files\\Python312\\Lib\\site-packages\\xlsxwriter\\workbook.py:369: UserWarning: Calling close() on already closed file.\n",
      "  warn(\"Calling close() on already closed file.\")\n"
     ]
    }
   ],
   "source": [
    "with pd.ExcelWriter(excelFileName, engine=engineName) as writer:\n",
    "    file.to_excel(writer, sheet_name=tab1Name, startrow=0, startcol=0, index=False)  # Grava na coluna A\n",
    "    \n",
    "    sum_global_by_platform.to_excel(writer, sheet_name=tab2Name, startrow=0, startcol=0, index=False)  # Grava na coluna A\n",
    "    mean_global_by_platform.to_excel(writer, sheet_name=tab2Name, startrow=0, startcol=3, index=False)  # Grava na coluna D\n",
    "    \n",
    "    percentage_by_group.to_excel(writer,sheet_name=tab3Name,startrow=0,startcol=0,index=False)\n",
    "\n",
    "    # Inserção do gráfico de barras na tab2\n",
    "    workbook = writer.book\n",
    "    worksheet = writer.sheets[tab2Name]\n",
    "    x_scale = 0.6  # Reduz para 60% do tamanho original\n",
    "    y_scale = 0.6  # Reduz para 60% do tamanho original\n",
    "    worksheet.insert_image('I1', top_10_sum_image, {'x_scale': x_scale, 'y_scale': y_scale})\n",
    "\n",
    "\n",
    "writer.close()"
   ]
  }
 ],
 "metadata": {
  "kernelspec": {
   "display_name": "Python 3",
   "language": "python",
   "name": "python3"
  },
  "language_info": {
   "codemirror_mode": {
    "name": "ipython",
    "version": 3
   },
   "file_extension": ".py",
   "mimetype": "text/x-python",
   "name": "python",
   "nbconvert_exporter": "python",
   "pygments_lexer": "ipython3",
   "version": "3.12.6"
  }
 },
 "nbformat": 4,
 "nbformat_minor": 2
}
