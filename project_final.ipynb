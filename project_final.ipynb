{
 "cells": [
  {
   "cell_type": "code",
   "execution_count": 125,
   "metadata": {},
   "outputs": [],
   "source": [
    "import pandas as pd\n",
    "import matplotlib.pyplot as plt\n",
    "import seaborn as sns"
   ]
  },
  {
   "cell_type": "code",
   "execution_count": 126,
   "metadata": {},
   "outputs": [],
   "source": [
    "#Global Variables\n",
    "\n",
    "# File names\n",
    "## Import\n",
    "csvFile = 'vgsales-12-4-2019.csv'\n",
    "\n",
    "## Export\n",
    "excelFileName = 'ficheiro.xlsx'\n",
    "tab1Name = 'Raw Data'\n",
    "tab2Name = 'Platform Rank'\n",
    "\n",
    "# Pandas CSV configuration\n",
    "encodingName = 'utf8'\n",
    "separator = ','\n",
    "\n",
    "# Pandas XLS configuration\n",
    "engineName = 'xlsxwriter'\n",
    "\n",
    "# Lê o ficheiro csv e guarda como um DataFrame\n",
    "#file = pd.read_csv(csvFile,sep=separator,encoding=encodingName)\n",
    "\n",
    "# Lista de colunas a introduzir nas diferentes funções para limpeza e pré-processamento do DataFrame\n",
    "list_columns_eliminar = ['Rank','basename','VGChartz_Score','Critic_Score','User_Score','Total_Shipped','Last_Update','url']\n",
    "list_columns_elimnar_linhas_ifnull = ['Genre','Platform','Publisher','Developer','Global_Sales','Year']\n",
    "list_colunas_fill_nulls = ['NA_Sales', 'PAL_Sales', 'JP_Sales', 'Other_Sales']"
   ]
  },
  {
   "cell_type": "markdown",
   "metadata": {},
   "source": [
    "Início Matheus"
   ]
  },
  {
   "cell_type": "code",
   "execution_count": 127,
   "metadata": {},
   "outputs": [],
   "source": [
    "# Essa função é reponsável pelo load de um ficheiro CSV \n",
    "def extract_base(inCSVName):\n",
    "    load_file = pd.read_csv(inCSVName,sep=separator,encoding=encodingName)\n",
    "    return load_file"
   ]
  },
  {
   "cell_type": "code",
   "execution_count": 128,
   "metadata": {},
   "outputs": [],
   "source": [
    "#Essa função é responsável por remover a primeira coluna de index do ficheiro o parâmetro axis=1 indica que o drop é na coluna.\n",
    "def transform_remove_index(inFile):\n",
    "    return inFile.drop(inFile.columns[0], axis=1)"
   ]
  },
  {
   "cell_type": "code",
   "execution_count": 129,
   "metadata": {},
   "outputs": [],
   "source": [
    "# Essa função é responsável por criar uma porcentagem de linhas null\n",
    "def count_null(inFile,inColumn):\n",
    "    totalRows = len(inFile)\n",
    "    countNull = 0\n",
    "    for i, row in inFile.iterrows():\n",
    "        if pd.isnull(row[inColumn]):\n",
    "            countNull += 1\n",
    "    porcent = round((countNull * 100) / totalRows,2)\n",
    "    return porcent"
   ]
  },
  {
   "cell_type": "code",
   "execution_count": 130,
   "metadata": {},
   "outputs": [],
   "source": [
    "# Essa função converte uma coluna para int, mas antes preenche null values como 0\n",
    "def convert_int(inFile,inColumn):\n",
    "    inFile[inColumn] = inFile[inColumn].fillna(0)\n",
    "    inFile[inColumn] = inFile[inColumn].astype(int)\n",
    "    return inFile"
   ]
  },
  {
   "cell_type": "code",
   "execution_count": 131,
   "metadata": {},
   "outputs": [],
   "source": [
    "# Essa função recebe como parâmetro o pd.ExcelWriter, o file e a tab do excel e escreve no ficheiro\n",
    "def write_xls(inWriter,inFile,inTab):\n",
    "    inFile.to_excel(inWriter, sheet_name=inTab,index=False)"
   ]
  },
  {
   "cell_type": "markdown",
   "metadata": {},
   "source": [
    "Fim Matheus"
   ]
  },
  {
   "cell_type": "markdown",
   "metadata": {},
   "source": [
    "Início Nuno"
   ]
  },
  {
   "cell_type": "code",
   "execution_count": 132,
   "metadata": {},
   "outputs": [],
   "source": [
    "# Função para preencher com zeros as colunas com vazios\n",
    "\n",
    "def fill_null(df, *column_name ,fill_value=0):\n",
    "    for column in column_name:\n",
    "        if column in df.columns:\n",
    "            df[column] = df[column].fillna(fill_value)\n",
    "    return df"
   ]
  },
  {
   "cell_type": "code",
   "execution_count": 133,
   "metadata": {},
   "outputs": [],
   "source": [
    "# Função responsável somar valores de uma coluna e agrupar por uma ou mais colunas\n",
    "# O reset index cria indexes para a nova lista criada\n",
    "# A função sort_values ordena os dados por ordem descendente da soma\n",
    "# No final é renomeada a coluna da soma para o nome que se quiser\n",
    "\n",
    "def sum_column_by_group(df, column, *group_by_column, new_column_name='Sum'):\n",
    "    group_by_list = list(group_by_column)\n",
    "\n",
    "    df_sum_grouped = df.groupby(group_by_list)[column].sum().reset_index()\n",
    "    df_sum_sorted = df_sum_grouped.sort_values(by=column, ascending = True).reset_index()\n",
    "    df_sum_sorted.rename(columns={column: new_column_name}, inplace = True)\n",
    "    return df_sum_sorted"
   ]
  },
  {
   "cell_type": "code",
   "execution_count": 134,
   "metadata": {},
   "outputs": [],
   "source": [
    "# Função responsável por cacular a média dos valores de uma coluna e agrupar por uma ou mais colunas\n",
    "# O reset index cria indexes para a nova lista criada\n",
    "# A função sort_values ordena os dados por ordem descendente da média\n",
    "# No final é renomeada a coluna da soma para o nome que se quiser\n",
    "\n",
    "def mean_column_by_group(df, column, *group_by_column, new_column_name='Average'):\n",
    "    group_by_list = list(group_by_column)\n",
    "\n",
    "    df_mean_grouped = df.groupby(group_by_list)[column].mean().reset_index()\n",
    "    df_mean_sorted = df_mean_grouped.sort_values(by=column, ascending = True).reset_index()\n",
    "    df_mean_sorted.rename(columns={column: new_column_name}, inplace = True)\n",
    "    return df_mean_sorted"
   ]
  },
  {
   "cell_type": "code",
   "execution_count": 135,
   "metadata": {},
   "outputs": [],
   "source": [
    "def plot_game_sales_trends(df, x_column, y_column, hue_column, title_name, xlabel_name, ylabel_name, legend_name, marker_type='o'):\n",
    "    # Set the plot size\n",
    "    plt.figure(figsize=(12, 6))\n",
    "    \n",
    "    # Create a line plot\n",
    "    sns.lineplot(data=df, x=x_column, y=y_column, hue=hue_column, marker=marker_type)\n",
    "    \n",
    "    # Add titles and labels\n",
    "    plt.title(title_name)\n",
    "    plt.xlabel(xlabel_name)\n",
    "    plt.ylabel(ylabel_name)\n",
    "    plt.legend(title=legend_name)\n",
    "    \n",
    "    # Show the plot\n",
    "    plt.show()"
   ]
  },
  {
   "cell_type": "markdown",
   "metadata": {},
   "source": [
    "Fim Nuno"
   ]
  },
  {
   "cell_type": "markdown",
   "metadata": {},
   "source": [
    "Início Diogo"
   ]
  },
  {
   "cell_type": "code",
   "execution_count": 136,
   "metadata": {},
   "outputs": [],
   "source": [
    "# Essa função filtra da lista apenas linhas onde uma coluna não é null\n",
    "def filter_global_sales_not_null(file,column):\n",
    "    try:\n",
    "        filtered_file= file[file[column].notnull()]\n",
    "        return filtered_file\n",
    "    except:\n",
    "        print(f'Column {column} not in DataFrame')"
   ]
  },
  {
   "cell_type": "markdown",
   "metadata": {},
   "source": [
    "Fim Diogo"
   ]
  },
  {
   "cell_type": "markdown",
   "metadata": {},
   "source": [
    "Início Jesus"
   ]
  },
  {
   "cell_type": "code",
   "execution_count": 137,
   "metadata": {},
   "outputs": [],
   "source": [
    "### Função `eliminar_columnas`\n",
    "\n",
    "#Esta função recebe um DataFrame e uma lista de colunas a serem removidas. Ela utiliza o método `drop()` do pandas para eliminar as colunas especificadas, ignorando erros caso alguma #coluna não exista no DataFrame.\n",
    "\n",
    "#### Parâmetros:\n",
    "#- **infile**: DataFrame original que será modificado.\n",
    "#- **columnas_a_eliminar**: Lista de colunas a serem removidas do DataFrame.\n",
    "\n",
    "#### Retorno:\n",
    "# Um novo DataFrame sem as colunas especificadas.\n",
    "\n",
    "def eliminar_columnas(infile, columnas_a_eliminar):\n",
    "    # Eliminar las columnas especificadas\n",
    "    df = infile.drop(columns=columnas_a_eliminar, errors='ignore')\n",
    "    \n",
    "    # Retornar el DataFrame modificado\n",
    "    return df"
   ]
  },
  {
   "cell_type": "markdown",
   "metadata": {},
   "source": [
    "Fim Jesus"
   ]
  },
  {
   "cell_type": "markdown",
   "metadata": {},
   "source": [
    "Fluxo principal da aplicação"
   ]
  },
  {
   "cell_type": "markdown",
   "metadata": {},
   "source": [
    "#1 Extraction"
   ]
  },
  {
   "cell_type": "code",
   "execution_count": 138,
   "metadata": {},
   "outputs": [],
   "source": [
    "writer = pd.ExcelWriter(excelFileName, engine=engineName)\n",
    "file = extract_base(csvFile)"
   ]
  },
  {
   "cell_type": "markdown",
   "metadata": {},
   "source": [
    "#2 Transform"
   ]
  },
  {
   "cell_type": "code",
   "execution_count": 139,
   "metadata": {},
   "outputs": [
    {
     "name": "stdout",
     "output_type": "stream",
     "text": [
      "                                    Name                          basename  \\\n",
      "19                    Grand Theft Auto V                grand-theft-auto-v   \n",
      "20                    Grand Theft Auto V                grand-theft-auto-v   \n",
      "30           Grand Theft Auto: Vice City        grand-theft-auto-vice-city   \n",
      "32                    Grand Theft Auto V                grand-theft-auto-v   \n",
      "34             Call of Duty: Black Ops 3          call-of-duty-black-ops-3   \n",
      "...                                  ...                               ...   \n",
      "21237       Mind, Body & Soul: Blend It!             body & soul blend it\"   \n",
      "21238              Ride! Carnival Tycoon              ride-carnival-tycoon   \n",
      "21239      Shinobido: Tales of the Ninja      shinobido-tales-of-the-ninja   \n",
      "21240    Tactical Ops: Assault on Terror    tactical-ops-assault-on-terror   \n",
      "21241  World in Conflict: Soviet Assault  world-in-conflict-soviet-assault   \n",
      "\n",
      "          Genre ESRB_Rating Platform                    Publisher  \\\n",
      "19       Action           M      PS3               Rockstar Games   \n",
      "20       Action           M      PS4               Rockstar Games   \n",
      "30       Action           M      PS2               Rockstar Games   \n",
      "32       Action           M     X360               Rockstar Games   \n",
      "34      Shooter           M      PS4                   Activision   \n",
      "...         ...         ...      ...                          ...   \n",
      "21237    Puzzle         NaN       DS                    505 Games   \n",
      "21238  Strategy           E       PC                     ValuSoft   \n",
      "21239    Action         NaN      PSP  Sony Computer Entertainment   \n",
      "21240   Shooter         NaN       PC                        Atari   \n",
      "21241  Strategy           T       PC                      Ubisoft   \n",
      "\n",
      "                                       Developer  VGChartz_Score  \\\n",
      "19                                Rockstar North             NaN   \n",
      "20                                Rockstar North             NaN   \n",
      "30                                Rockstar North             NaN   \n",
      "32                                Rockstar North             NaN   \n",
      "34                                      Treyarch             NaN   \n",
      "...                                          ...             ...   \n",
      "21237                              Crush Digital             NaN   \n",
      "21238                                   ValuSoft             NaN   \n",
      "21239                                    Acquire             NaN   \n",
      "21240                            Kamehan Studios             NaN   \n",
      "21241  Massive Entertainment / Swordfish Studios             NaN   \n",
      "\n",
      "       Global_Sales  NA_Sales  PAL_Sales  JP_Sales  Other_Sales  Year  \\\n",
      "19            20.32      6.37       9.85      0.99         3.12  2013   \n",
      "20            19.39      6.06       9.71      0.60         3.02  2014   \n",
      "30            16.15      8.41       5.49      0.47         1.78  2002   \n",
      "32            15.86      9.06       5.33      0.06         1.42  2013   \n",
      "34            15.09      6.18       6.05      0.41         2.44  2015   \n",
      "...             ...       ...        ...       ...          ...   ...   \n",
      "21237          0.00       NaN       0.00       NaN          NaN  2010   \n",
      "21238          0.00       NaN       0.00       NaN          NaN  2007   \n",
      "21239          0.00       NaN       0.00       NaN          NaN  2007   \n",
      "21240          0.00       NaN       0.00       NaN          NaN  2002   \n",
      "21241          0.00       NaN       0.00       NaN          NaN  2009   \n",
      "\n",
      "       Last_Update                                                url  status  \\\n",
      "19             NaN  http://www.vgchartz.com/game/65884/grand-theft...       1   \n",
      "20     03rd Jan 18  http://www.vgchartz.com/game/83196/grand-theft...       1   \n",
      "30             NaN  http://www.vgchartz.com/game/896/grand-theft-a...       1   \n",
      "32             NaN  http://www.vgchartz.com/game/65883/grand-theft...       1   \n",
      "34     14th Jan 18  http://www.vgchartz.com/game/85359/call-of-dut...       1   \n",
      "...            ...                                                ...     ...   \n",
      "21237          NaN  http://www.vgchartz.com/game/31394/mind-body-a...       1   \n",
      "21238          NaN  http://www.vgchartz.com/game/40441/ride-carniv...       1   \n",
      "21239          NaN  http://www.vgchartz.com/game/20018/shinobido-t...       1   \n",
      "21240          NaN  http://www.vgchartz.com/game/36164/tactical-op...       1   \n",
      "21241          NaN  http://www.vgchartz.com/game/25257/world-in-co...       1   \n",
      "\n",
      "       Vgchartzscore                                            img_url  \n",
      "19               NaN      /games/boxart/full_6510540AmericaFrontccc.jpg  \n",
      "20               NaN      /games/boxart/full_5563178AmericaFrontccc.jpg  \n",
      "30               NaN                        /games/boxart/827563ccc.jpg  \n",
      "32               NaN      /games/boxart/full_9218923AmericaFrontccc.jpg  \n",
      "34               NaN      /games/boxart/full_4990510AmericaFrontccc.jpg  \n",
      "...              ...                                                ...  \n",
      "21237            NaN          /games/boxart/full_2998242PALFrontccc.jpg  \n",
      "21238            NaN       /games/boxart/full_756013AmericaFrontccc.jpg  \n",
      "21239            NaN          /games/boxart/full_2848967PALFrontccc.jpg  \n",
      "21240            NaN       /games/boxart/full_942613AmericaFrontccc.jpg  \n",
      "21241            NaN  /games/boxart/full_world-in-conflict-soviet-as...  \n",
      "\n",
      "[19415 rows x 19 columns]\n"
     ]
    }
   ],
   "source": [
    "# Matheus\n",
    "file = transform_remove_index(file)\n",
    "file = convert_int(file,'Year')\n",
    "\n",
    "# Diogo\n",
    "file = filter_global_sales_not_null(file,'Global_Sales')\n",
    "\n",
    "# Jesus\n",
    "columnas_a_eliminar = ['Index', 'Rank', 'Critic_Score', 'User_Score', 'Total_Shipped']\n",
    "file = eliminar_columnas(file,columnas_a_eliminar )\n",
    "print(file)\n",
    "\n",
    "# Nuno\n",
    "#sum_global_by_platform = sum_column_by_group(file, 'Global_Sales', 'Platform', 'Total_Global_Sales')\n",
    "\n"
   ]
  },
  {
   "cell_type": "markdown",
   "metadata": {},
   "source": [
    "#3 Load"
   ]
  },
  {
   "cell_type": "code",
   "execution_count": 140,
   "metadata": {},
   "outputs": [],
   "source": [
    "write_xls(writer,file,tab1Name)\n",
    "#write_xls(writer,sum_global_by_platform,tab2Name)\n",
    "\n",
    "writer.close()"
   ]
  }
 ],
 "metadata": {
  "kernelspec": {
   "display_name": "Python 3",
   "language": "python",
   "name": "python3"
  },
  "language_info": {
   "codemirror_mode": {
    "name": "ipython",
    "version": 3
   },
   "file_extension": ".py",
   "mimetype": "text/x-python",
   "name": "python",
   "nbconvert_exporter": "python",
   "pygments_lexer": "ipython3",
   "version": "3.12.6"
  }
 },
 "nbformat": 4,
 "nbformat_minor": 2
}
