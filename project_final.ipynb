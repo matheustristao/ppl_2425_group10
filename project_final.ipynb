{
 "cells": [
  {
   "cell_type": "code",
   "execution_count": null,
   "metadata": {},
   "outputs": [],
   "source": [
    "import pandas as pd"
   ]
  },
  {
   "cell_type": "code",
   "execution_count": null,
   "metadata": {},
   "outputs": [],
   "source": [
    "# File names\n",
    "## Import\n",
    "csvFile = 'Video_Games.csv'\n",
    "\n",
    "## Export\n",
    "excelFileName = 'ficheiro.xlsx'\n",
    "tab1Name = 'Raw Data'\n",
    "tab2Name = 'Platform Rank'\n",
    "\n",
    "# Pandas CSV configuration\n",
    "encodingName = 'utf8'\n",
    "separator = ','\n",
    "\n",
    "# Pandas XLS configuration\n",
    "engineName = 'xlsxwriter'\n"
   ]
  },
  {
   "cell_type": "markdown",
   "metadata": {},
   "source": [
    "Global Variables"
   ]
  },
  {
   "cell_type": "code",
   "execution_count": null,
   "metadata": {},
   "outputs": [],
   "source": [
    "\n",
    "def extract_base(inCSVName):\n",
    "    load_file = pd.read_csv(inCSVName,sep=separator,encoding=encodingName)\n",
    "    return load_file"
   ]
  },
  {
   "cell_type": "markdown",
   "metadata": {},
   "source": [
    "Essa função é reponsável pelo load de um ficheiro CSV "
   ]
  },
  {
   "cell_type": "code",
   "execution_count": null,
   "metadata": {},
   "outputs": [],
   "source": [
    "def transform_remove_index(inFile):\n",
    "    return inFile.drop(inFile.columns[0], axis=1)"
   ]
  },
  {
   "cell_type": "markdown",
   "metadata": {},
   "source": [
    "Essa função é responsável por remover a primeira coluna de index do ficheiro o parâmetro axis=1 indica que o drop é na coluna."
   ]
  },
  {
   "cell_type": "code",
   "execution_count": null,
   "metadata": {},
   "outputs": [],
   "source": [
    "def soma_global_sales_platform(inFile):\n",
    "    file = inFile.groupby('Platform')['Global_Sales'].sum().reset_index()\n",
    "    file = file.sort_values(by='Global_Sales', ascending = False).reset_index()\n",
    "    return file"
   ]
  },
  {
   "cell_type": "markdown",
   "metadata": {},
   "source": [
    "Função responsável por fazer um group by na coluna Platform e somar os valores de Global_Sales\n",
    "O reset index cria indexes para a nova lista criada\n",
    "A função sort_values ordena os dados"
   ]
  },
  {
   "cell_type": "code",
   "execution_count": null,
   "metadata": {},
   "outputs": [],
   "source": [
    "def write_xls(inWriter,inFile,inTab):\n",
    "    inFile.to_excel(inWriter, sheet_name=inTab,index=False)"
   ]
  },
  {
   "cell_type": "markdown",
   "metadata": {},
   "source": [
    "Essa função recebe como parâmetro o pd.ExcelWriter, o file e a tab do excel e escreve no ficheiro"
   ]
  },
  {
   "cell_type": "code",
   "execution_count": null,
   "metadata": {},
   "outputs": [],
   "source": [
    "writer = pd.ExcelWriter(excelFileName, engine=engineName)\n",
    "\n",
    "file = extract_base(csvFile)\n",
    "\n",
    "file = transform_remove_index(file)\n",
    "write_xls(writer,file,tab1Name)\n",
    "\n",
    "maxGlobalPlatform = soma_global_sales_platform(file)\n",
    "write_xls(writer,maxGlobalPlatform,tab2Name)\n",
    "\n",
    "writer.close()"
   ]
  }
 ],
 "metadata": {
  "language_info": {
   "name": "python"
  }
 },
 "nbformat": 4,
 "nbformat_minor": 2
}
