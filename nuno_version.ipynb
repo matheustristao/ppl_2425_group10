{
 "cells": [
  {
   "cell_type": "markdown",
   "metadata": {},
   "source": [
    "ENVIAR PARA MAIN FILE: Atualização dos import"
   ]
  },
  {
   "cell_type": "code",
   "execution_count": 4,
   "metadata": {},
   "outputs": [],
   "source": [
    "import pandas as pd\n",
    "import matplotlib.pyplot as plt\n",
    "import seaborn as sns"
   ]
  },
  {
   "cell_type": "markdown",
   "metadata": {},
   "source": [
    "ENVIAR PARA MAIN FILE: Atualização das variaveis"
   ]
  },
  {
   "cell_type": "code",
   "execution_count": 8,
   "metadata": {},
   "outputs": [],
   "source": [
    "#Global Variables\n",
    "\n",
    "# File names\n",
    "## Import\n",
    "csvFile = 'vgsales-12-4-2019.csv'\n",
    "\n",
    "## Export\n",
    "excelFileName = 'ficheiro.xlsx'\n",
    "tab1Name = 'Raw Data'\n",
    "tab2Name = 'Platform Rank'\n",
    "\n",
    "# Pandas CSV configuration\n",
    "encodingName = 'utf8'\n",
    "separator = ','\n",
    "\n",
    "# Pandas XLS configuration\n",
    "engineName = 'xlsxwriter'\n",
    "\n",
    "# Lê o ficheiro csv e guarda como um DataFrame\n",
    "file = pd.read_csv(csvFile,sep=separator,encoding=encodingName)\n",
    "\n",
    "# Lista de colunas a introduzir nas diferentes funções para limpeza e pré-processamento do DataFrame\n",
    "list_columns_eliminar = ['Rank','basename','VGChartz_Score','Critic_Score','User_Score','Total_Shipped','Last_Update','url']\n",
    "list_columns_elimnar_linhas_ifnull = ['Genre','Platform','Publisher','Developer','Global_Sales','Year']\n",
    "list_colunas_fill_nulls = ['NA_Sales', 'PAL_Sales', 'JP_Sales', 'Other_Sales']"
   ]
  },
  {
   "cell_type": "code",
   "execution_count": 9,
   "metadata": {},
   "outputs": [
    {
     "name": "stdout",
     "output_type": "stream",
     "text": [
      "    Global_Sales  NA_Sales  PAL_Sales  JP_Sales  Other_Sales\n",
      "31           NaN       NaN        NaN       NaN          NaN\n",
      "32         15.86      9.06       5.33      0.06         1.42\n",
      "33           NaN       NaN        NaN       NaN          NaN\n",
      "34         15.09      6.18       6.05      0.41         2.44\n",
      "35           NaN       NaN        NaN       NaN          NaN\n",
      "36           NaN       NaN        NaN       NaN          NaN\n",
      "37           NaN       NaN        NaN       NaN          NaN\n",
      "38           NaN       NaN        NaN       NaN          NaN\n",
      "39           NaN       NaN        NaN       NaN          NaN\n",
      "40         14.82      9.07       4.29      0.13         1.33\n"
     ]
    }
   ],
   "source": [
    "# Datframe de teste para testar a função fillNull\n",
    "df_teste = file.iloc[31:41,12:17]\n",
    "\n",
    "print(df_teste)\n"
   ]
  },
  {
   "cell_type": "markdown",
   "metadata": {},
   "source": [
    "ENVIAR PARA MAIN FILE: Função de preencher com zero as colunas com vazios"
   ]
  },
  {
   "cell_type": "code",
   "execution_count": 26,
   "metadata": {},
   "outputs": [],
   "source": [
    "# Função para preencher com zeros as colunas com vazios\n",
    "\n",
    "def fill_null(df, *column_name ,fill_value=0):\n",
    "    for column in column_name:\n",
    "        if column in df.columns:\n",
    "            df[column] = df[column].fillna(fill_value)\n",
    "    return df"
   ]
  },
  {
   "cell_type": "code",
   "execution_count": null,
   "metadata": {},
   "outputs": [],
   "source": [
    "print (fill_null(df_teste, 'Global_Sales', 'NA_Sales', 'PAL_Sales', 'JP_Sales', 'Other_Sales'))"
   ]
  },
  {
   "cell_type": "markdown",
   "metadata": {},
   "source": [
    "ENVIAR PARA MAIN FILE: Função para fazer a soma por coluna agrupando por colunas"
   ]
  },
  {
   "cell_type": "code",
   "execution_count": 1,
   "metadata": {},
   "outputs": [],
   "source": [
    "# Função responsável somar valores de uma coluna e agrupar por uma ou mais colunas\n",
    "# O reset index cria indexes para a nova lista criada\n",
    "# A função sort_values ordena os dados por ordem descendente da soma\n",
    "# No final é renomeada a coluna da soma para o nome que se quiser\n",
    "\n",
    "def sum_column_by_group(df, column, *group_by_column, new_column_name='Sum'):\n",
    "    group_by_list = list(group_by_column)\n",
    "\n",
    "    df_sum_grouped = df.groupby(group_by_list)[column].sum().reset_index()\n",
    "    df_sum_sorted = df_sum_grouped.sort_values(by=column, ascending = True).reset_index()\n",
    "    df_sum_sorted.rename(columns={column: new_column_name}, inplace = True)\n",
    "    return df_sum_sorted"
   ]
  },
  {
   "cell_type": "markdown",
   "metadata": {},
   "source": [
    "ENVIAR PARA MAIN FILE: Função para fazer a média por coluna agrupando por colunas"
   ]
  },
  {
   "cell_type": "code",
   "execution_count": 2,
   "metadata": {},
   "outputs": [],
   "source": [
    "# Função responsável por cacular a média dos valores de uma coluna e agrupar por uma ou mais colunas\n",
    "# O reset index cria indexes para a nova lista criada\n",
    "# A função sort_values ordena os dados por ordem descendente da média\n",
    "# No final é renomeada a coluna da soma para o nome que se quiser\n",
    "\n",
    "def mean_column_by_group(df, column, *group_by_column, new_column_name='Average'):\n",
    "    group_by_list = list(group_by_column)\n",
    "\n",
    "    df_mean_grouped = df.groupby(group_by_list)[column].mean().reset_index()\n",
    "    df_mean_sorted = df_mean_grouped.sort_values(by=column, ascending = True).reset_index()\n",
    "    df_mean_sorted.rename(columns={column: new_column_name}, inplace = True)\n",
    "    return df_mean_sorted"
   ]
  },
  {
   "cell_type": "markdown",
   "metadata": {},
   "source": [
    "ENVIAR PARA MAIN FILE: Função para plot gráficos de linha em função das colunas pretendidas"
   ]
  },
  {
   "cell_type": "code",
   "execution_count": 2,
   "metadata": {},
   "outputs": [],
   "source": [
    "# Função para plotar gráfico com as tendencias\n",
    "\n",
    "def plot_game_sales_trends(df, x_column, y_column, hue_column, title_name, xlabel_name, ylabel_name, legend_name, marker_type='o'):\n",
    "    # Set the plot size\n",
    "    plt.figure(figsize=(12, 6))\n",
    "    \n",
    "    # Create a line plot\n",
    "    sns.lineplot(data=df, x=x_column, y=y_column, hue=hue_column, marker=marker_type)\n",
    "    \n",
    "    # Add titles and labels\n",
    "    plt.title(title_name)\n",
    "    plt.xlabel(xlabel_name)\n",
    "    plt.ylabel(ylabel_name)\n",
    "    plt.legend(title=legend_name)\n",
    "    \n",
    "    # Show the plot\n",
    "    plt.show()"
   ]
  },
  {
   "cell_type": "markdown",
   "metadata": {},
   "source": [
    "NOTAS: TAREFAS EM FALTA!! (COPIAR PARA MAIN FILE)\n",
    "\n",
    "1 - Colocar cada função por célula (com o Markdown em cima a indicar que em baixo seguem as funções a aplicar nas respetivas tarefas)\n",
    "\n",
    "2 - Por Tarefa fazer o código e os loops necessários para ir chamando as funções e fazer o tratamento (eliminar colunas e limpeza de linhas) e o pré-processamento (preencher com zeros os valor)\n",
    "\n",
    "3 - Fazer o código e os loops necessários para criar as diferentes DataFrames e gráficos a colocar no Excel\n",
    "\n",
    "4 - Fazer o loop para correr a função de gravar em sheet e ir chamando a função e ir colocando o DataFrame/Gráfico criado no ponto 3 na respetiva sheet\n",
    "\n",
    "5 - Gravar e enviar tudo para o Prof."
   ]
  },
  {
   "cell_type": "code",
   "execution_count": 10,
   "metadata": {},
   "outputs": [],
   "source": [
    "# Essa função recebe como parâmetro o pd.ExcelWriter, o file e a tab do excel e escreve no ficheiro\n",
    "def write_xls(inWriter,inFile,inTab):\n",
    "    inFile.to_excel(inWriter, sheet_name=inTab,index=False)"
   ]
  },
  {
   "cell_type": "code",
   "execution_count": null,
   "metadata": {},
   "outputs": [],
   "source": [
    "writer = pd.ExcelWriter(excelFileName, engine=engineName)\n",
    "\n",
    "file = transform_remove_index(file)\n",
    "write_xls(writer,file,tab1Name)\n",
    "\n",
    "sum_global_by_platform = sum_column_by_group(file, 'Global_Sales', 'Platform', 'Total_Global_Sales')\n",
    "write_xls(writer,sum_global_by_platform,tab2Name)\n",
    "\n",
    "writer.close()"
   ]
  }
 ],
 "metadata": {
  "kernelspec": {
   "display_name": "Python 3",
   "language": "python",
   "name": "python3"
  },
  "language_info": {
   "codemirror_mode": {
    "name": "ipython",
    "version": 3
   },
   "file_extension": ".py",
   "mimetype": "text/x-python",
   "name": "python",
   "nbconvert_exporter": "python",
   "pygments_lexer": "ipython3",
   "version": "3.13.0"
  }
 },
 "nbformat": 4,
 "nbformat_minor": 2
}
