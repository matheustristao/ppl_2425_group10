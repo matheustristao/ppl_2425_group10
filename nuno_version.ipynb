{
 "cells": [
  {
   "cell_type": "code",
   "execution_count": 17,
   "metadata": {},
   "outputs": [],
   "source": [
    "import pandas as pd\n",
    "import matplotlib.pyplot as plt\n",
    "import seaborn as sns"
   ]
  },
  {
   "cell_type": "code",
   "execution_count": 18,
   "metadata": {},
   "outputs": [],
   "source": [
    "#Global Variables\n",
    "\n",
    "# File names\n",
    "## Import\n",
    "csvFile = 'vgsales-12-4-2019.csv'\n",
    "\n",
    "## Export\n",
    "excelFileName = 'ficheiro.xlsx'\n",
    "tab1Name = 'Raw Data'\n",
    "tab2Name = 'Platform Rank'\n",
    "\n",
    "# Pandas CSV configuration\n",
    "encodingName = 'utf8'\n",
    "separator = ','\n",
    "\n",
    "# Pandas XLS configuration\n",
    "engineName = 'xlsxwriter'\n",
    "\n",
    "\n",
    "file = pd.read_csv(csvFile,sep=separator,encoding=encodingName)"
   ]
  },
  {
   "cell_type": "code",
   "execution_count": null,
   "metadata": {},
   "outputs": [],
   "source": [
    "# Datframe de teste para testar a função fillNull\n",
    "df_teste = file.iloc[31:41,12:17]\n",
    "\n",
    "print(df_teste)\n"
   ]
  },
  {
   "cell_type": "code",
   "execution_count": 26,
   "metadata": {},
   "outputs": [],
   "source": [
    "def fill_null(df, *column_name ,fill_value=0):\n",
    "    for column in column_name:\n",
    "        if column in df.columns:\n",
    "            df[column] = df[column].fillna(fill_value)\n",
    "    return df"
   ]
  },
  {
   "cell_type": "code",
   "execution_count": null,
   "metadata": {},
   "outputs": [],
   "source": [
    "print (fill_null(df_teste, 'Global_Sales', 'NA_Sales', 'PAL_Sales', 'JP_Sales', 'Other_Sales'))"
   ]
  },
  {
   "cell_type": "markdown",
   "metadata": {},
   "source": [
    "Tarefa 2 - Limpeza e pré-processamento de dados\n",
    "\n",
    "1 - Eliminar colunas: Index, Rank, Critic_Score, User_Score, Total_Shipped - Jesus\n",
    "2 - Eliminar null em global_sales - Diogo\n",
    "3 - Substituir por 0 em PAL_Sales, JP_Sales, Other_Sales e NA_Sales quando o valor é null - Nuno\n",
    "4 - (Analisar quantas linhas sobram em Rated) - Matheus\n",
    "\n"
   ]
  },
  {
   "cell_type": "code",
   "execution_count": null,
   "metadata": {},
   "outputs": [],
   "source": [
    "# Essa função é responsável por remover a primeira coluna de index do ficheiro\n",
    "# o parâmetro axis=1 indica que o drop é na coluna.\n",
    "def transform_remove_index(inFile):\n",
    "    return inFile.drop(inFile.columns[0], axis=1)"
   ]
  },
  {
   "cell_type": "code",
   "execution_count": null,
   "metadata": {},
   "outputs": [],
   "source": [
    "# Função responsável somar valores de uma coluna e agrupar por uma ou mais colunas\n",
    "# O reset index cria indexes para a nova lista criada\n",
    "# A função sort_values ordena os dados por ordem descendente da soma\n",
    "# No final é renomeada a coluna da soma para o nome que se quiser\n",
    "\n",
    "def sum_column_by_group(df, column, *group_by_column, new_column_name):\n",
    "    group_by_list = list(group_by_column)\n",
    "\n",
    "    df_sum_grouped = df.groupby(group_by_list)[column].sum().reset_index()\n",
    "    df_sum_sorted = df_sum_grouped.sort_values(by=column, ascending = True).reset_index()\n",
    "    df_sum_sorted.rename(columns={column: new_column_name}, inplace = True)\n",
    "    return df_sum_sorted"
   ]
  },
  {
   "cell_type": "code",
   "execution_count": null,
   "metadata": {},
   "outputs": [],
   "source": [
    "# Função responsável por cacular a média dos valores de uma coluna e agrupar por uma ou mais colunas\n",
    "# O reset index cria indexes para a nova lista criada\n",
    "# A função sort_values ordena os dados por ordem descendente da média\n",
    "# No final é renomeada a coluna da soma para o nome que se quiser\n",
    "\n",
    "def mean_column_by_group(df, column, *group_by_column, new_column_name):\n",
    "    group_by_list = list(group_by_column)\n",
    "\n",
    "    df_mean_grouped = df.groupby(group_by_list)[column].mean().reset_index()\n",
    "    df_mean_sorted = df_mean_grouped.sort_values(by=column, ascending = True).reset_index()\n",
    "    df_mean_sorted.rename(columns={column: new_column_name}, inplace = True)\n",
    "    return df_mean_sorted"
   ]
  },
  {
   "cell_type": "code",
   "execution_count": 2,
   "metadata": {},
   "outputs": [],
   "source": [
    "# Função para plotar gráfico com as tendencias\n",
    "\n",
    "def plot_game_sales_trends(df, x_column, y_column, hue_column, title_name, xlabel_name, ylabel_name, legend_name, marker_type='o'):\n",
    "    # Set the plot size\n",
    "    plt.figure(figsize=(12, 6))\n",
    "    \n",
    "    # Create a line plot\n",
    "    sns.lineplot(data=df, x=x_column, y=y_column, hue=hue_column, marker=marker_type)\n",
    "    \n",
    "    # Add titles and labels\n",
    "    plt.title(title_name)\n",
    "    plt.xlabel(xlabel_name)\n",
    "    plt.ylabel(ylabel_name)\n",
    "    plt.legend(title=legend_name)\n",
    "    \n",
    "    # Show the plot\n",
    "    plt.show()"
   ]
  },
  {
   "cell_type": "code",
   "execution_count": null,
   "metadata": {},
   "outputs": [],
   "source": [
    "# Essa função recebe como parâmetro o pd.ExcelWriter, o file e a tab do excel e escreve no ficheiro\n",
    "def write_xls(inWriter,inFile,inTab):\n",
    "    inFile.to_excel(inWriter, sheet_name=inTab,index=False)"
   ]
  },
  {
   "cell_type": "code",
   "execution_count": null,
   "metadata": {},
   "outputs": [],
   "source": [
    "writer = pd.ExcelWriter(excelFileName, engine=engineName)\n",
    "\n",
    "file = transform_remove_index(file)\n",
    "write_xls(writer,file,tab1Name)\n",
    "\n",
    "sum_global_by_platform = sum_column_by_group(file, 'Global_Sales', 'Platform', 'Total_Global_Sales')\n",
    "write_xls(writer,sum_global_by_platform,tab2Name)\n",
    "\n",
    "writer.close()"
   ]
  }
 ],
 "metadata": {
  "kernelspec": {
   "display_name": "Python 3",
   "language": "python",
   "name": "python3"
  },
  "language_info": {
   "codemirror_mode": {
    "name": "ipython",
    "version": 3
   },
   "file_extension": ".py",
   "mimetype": "text/x-python",
   "name": "python",
   "nbconvert_exporter": "python",
   "pygments_lexer": "ipython3",
   "version": "3.13.0"
  }
 },
 "nbformat": 4,
 "nbformat_minor": 2
}
