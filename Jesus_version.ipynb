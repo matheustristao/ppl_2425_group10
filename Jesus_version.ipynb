{
 "cells": [
  {
   "cell_type": "code",
   "execution_count": 51,
   "metadata": {},
   "outputs": [],
   "source": [
    "import pandas as pd"
   ]
  },
  {
   "cell_type": "code",
   "execution_count": 52,
   "metadata": {},
   "outputs": [],
   "source": [
    "#Global Variables\n",
    "\n",
    "# File names\n",
    "## Import\n",
    "csvFile = 'vgsales-12-4-2019.csv'\n",
    "\n",
    "## Export\n",
    "excelFileName = 'ficheiro.xlsx'\n",
    "tab1Name = 'Raw Data'\n",
    "tab2Name = 'Platform Rank'\n",
    "\n",
    "# Pandas CSV configuration\n",
    "encodingName = 'utf8'\n",
    "separator = ','\n",
    "\n",
    "# Pandas XLS configuration\n",
    "engineName = 'xlsxwriter'\n"
   ]
  },
  {
   "cell_type": "code",
   "execution_count": 53,
   "metadata": {},
   "outputs": [],
   "source": [
    "# Essa função é reponsável pelo load de um ficheiro CSV \n",
    "def extract_base(inCSVName):\n",
    "    load_file = pd.read_csv(inCSVName,sep=separator,encoding=encodingName)\n",
    "    return load_file\n",
    "\n",
    "        "
   ]
  },
  {
   "cell_type": "code",
   "execution_count": 59,
   "metadata": {},
   "outputs": [
    {
     "name": "stdout",
     "output_type": "stream",
     "text": [
      "        Rank                           Name                      basename  \\\n",
      "0          1                     Wii Sports                    wii-sports   \n",
      "1          2              Super Mario Bros.              super-mario-bros   \n",
      "2          3                 Mario Kart Wii                mario-kart-wii   \n",
      "3          4  PlayerUnknown's Battlegrounds  playerunknowns-battlegrounds   \n",
      "4          5              Wii Sports Resort             wii-sports-resort   \n",
      "...      ...                            ...                           ...   \n",
      "55787  55788                    Indivisible                   indivisible   \n",
      "55788  55789                     Lost Ember                    lost-amber   \n",
      "55789  55790                     Lost Ember                    lost-amber   \n",
      "55790  55791                     Lost Ember                    lost-amber   \n",
      "55791  55792                     Falcon Age                    falcon-age   \n",
      "\n",
      "                  Genre ESRB_Rating Platform         Publisher  \\\n",
      "0                Sports           E      Wii          Nintendo   \n",
      "1              Platform         NaN      NES          Nintendo   \n",
      "2                Racing           E      Wii          Nintendo   \n",
      "3               Shooter         NaN       PC  PUBG Corporation   \n",
      "4                Sports           E      Wii          Nintendo   \n",
      "...                 ...         ...      ...               ...   \n",
      "55787      Role-Playing         NaN       PC         505 Games   \n",
      "55788         Adventure          RP       PC   Mooneye Studios   \n",
      "55789         Adventure          RP      PS4   Mooneye Studios   \n",
      "55790         Adventure          RP     XOne   Mooneye Studios   \n",
      "55791  Action-Adventure         NaN      PS4           Unknown   \n",
      "\n",
      "              Developer  VGChartz_Score  Critic_Score  ...  NA_Sales  \\\n",
      "0          Nintendo EAD             NaN           7.7  ...       NaN   \n",
      "1          Nintendo EAD             NaN          10.0  ...       NaN   \n",
      "2          Nintendo EAD             NaN           8.2  ...       NaN   \n",
      "3      PUBG Corporation             NaN           NaN  ...       NaN   \n",
      "4          Nintendo EAD             NaN           8.0  ...       NaN   \n",
      "...                 ...             ...           ...  ...       ...   \n",
      "55787    Lab Zero Games             NaN           NaN  ...       NaN   \n",
      "55788   Mooneye Studios             NaN           NaN  ...       NaN   \n",
      "55789   Mooneye Studios             NaN           NaN  ...       NaN   \n",
      "55790   Mooneye Studios             NaN           NaN  ...       NaN   \n",
      "55791   Outerloop Games             NaN           NaN  ...       NaN   \n",
      "\n",
      "       PAL_Sales  JP_Sales  Other_Sales    Year  Last_Update  \\\n",
      "0            NaN       NaN          NaN  2006.0          NaN   \n",
      "1            NaN       NaN          NaN  1985.0          NaN   \n",
      "2            NaN       NaN          NaN  2008.0  11th Apr 18   \n",
      "3            NaN       NaN          NaN  2017.0  13th Nov 18   \n",
      "4            NaN       NaN          NaN  2009.0          NaN   \n",
      "...          ...       ...          ...     ...          ...   \n",
      "55787        NaN       NaN          NaN  2019.0  11th Apr 19   \n",
      "55788        NaN       NaN          NaN  2019.0  11th Apr 19   \n",
      "55789        NaN       NaN          NaN  2019.0  11th Apr 19   \n",
      "55790        NaN       NaN          NaN  2019.0  11th Apr 19   \n",
      "55791        NaN       NaN          NaN     NaN  12th Apr 19   \n",
      "\n",
      "                                                     url  status  \\\n",
      "0      http://www.vgchartz.com/game/2667/wii-sports/?...       1   \n",
      "1      http://www.vgchartz.com/game/6455/super-mario-...       1   \n",
      "2      http://www.vgchartz.com/game/6968/mario-kart-w...       1   \n",
      "3      http://www.vgchartz.com/game/215988/playerunkn...       1   \n",
      "4      http://www.vgchartz.com/game/24656/wii-sports-...       1   \n",
      "...                                                  ...     ...   \n",
      "55787  http://www.vgchartz.com/game/224682/indivisibl...       1   \n",
      "55788  http://www.vgchartz.com/games/game.php?id=2246...       1   \n",
      "55789  http://www.vgchartz.com/game/224690/lost-ember...       1   \n",
      "55790  http://www.vgchartz.com/game/224688/lost-ember...       1   \n",
      "55791  http://www.vgchartz.com/game/224692/falcon-age...       1   \n",
      "\n",
      "      Vgchartzscore                                        img_url  \n",
      "0               NaN  /games/boxart/full_2258645AmericaFrontccc.jpg  \n",
      "1               NaN                   /games/boxart/8972270ccc.jpg  \n",
      "2               8.7  /games/boxart/full_8932480AmericaFrontccc.jpg  \n",
      "3               NaN  /games/boxart/full_8052843AmericaFrontccc.jpg  \n",
      "4               8.8  /games/boxart/full_7295041AmericaFrontccc.jpg  \n",
      "...             ...                                            ...  \n",
      "55787           NaN  /games/boxart/full_6339426AmericaFrontccc.jpg  \n",
      "55788           NaN  /games/boxart/full_8893129AmericaFrontccc.jpg  \n",
      "55789           NaN  /games/boxart/full_6514293AmericaFrontccc.jpg  \n",
      "55790           NaN  /games/boxart/full_6799693AmericaFrontccc.jpg  \n",
      "55791           NaN                      /games/boxart/default.jpg  \n",
      "\n",
      "[55792 rows x 23 columns]\n"
     ]
    }
   ],
   "source": [
    "#esta função apaga as columnas \"Index, rank, critic score, User Score, e Total Shipped\"\n",
    "\n",
    "def eliminar_columnas(infile):\n",
    "    \n",
    "    \n",
    "    # Definir columnas para eliminar\n",
    "    columnas_a_eliminar = ['Index', 'Rank', 'Critic_Score', 'User_Score', 'Total_Shipped']\n",
    "    \n",
    "    # Eliminar las columnas\n",
    "    df = df.drop(columns=columnas_a_eliminar, errors='ignore')\n",
    "    \n",
    "    # Retornar el DataFrame modificado\n",
    "    return df\n",
    "\n",
    "print(df)"
   ]
  },
  {
   "cell_type": "code",
   "execution_count": null,
   "metadata": {},
   "outputs": [],
   "source": [
    "#esta função apaga as columnas \"Index, rank, critic score, User Score, e Total Shipped\"\n",
    "\n",
    "def eliminar_columnas(infile):\n",
    "    \n",
    "    \n",
    "    # Definir columnas para eliminar\n",
    "    columnas_a_eliminar = ['Index', 'Rank', 'Critic_Score', 'User_Score', 'Total_Shipped']\n",
    "    \n",
    "    # Eliminar las columnas\n",
    "    df = df.drop(columns=columnas_a_eliminar, errors='ignore')\n",
    "    \n",
    "    # Retornar el DataFrame modificado\n",
    "    return df\n",
    "\n",
    "print(df)"
   ]
  },
  {
   "cell_type": "code",
   "execution_count": 40,
   "metadata": {},
   "outputs": [],
   "source": [
    "# Essa função é responsável por remover a primeira coluna de index do ficheiro\n",
    "# o parâmetro axis=1 indica que o drop é na coluna.\n",
    "def transform_remove_index(inFile):\n",
    "    return inFile.drop(inFile.columns[0], axis=1)"
   ]
  },
  {
   "cell_type": "code",
   "execution_count": 162,
   "metadata": {},
   "outputs": [],
   "source": [
    "# Função responsável por fazer um group by na coluna Platform e somar os valores de Global_Sales\n",
    "# O reset index cria indexes para a nova lista criada\n",
    "# A função sort_values ordena os dados\n",
    "def soma_global_sales_platform(inFile):\n",
    "    file = inFile.groupby('Platform')['Global_Sales'].sum().reset_index()\n",
    "    file = file.sort_values(by='Global_Sales', ascending = False).reset_index()\n",
    "    return file"
   ]
  },
  {
   "cell_type": "code",
   "execution_count": 163,
   "metadata": {},
   "outputs": [],
   "source": [
    "# Essa função recebe como parâmetro o pd.ExcelWriter, o file e a tab do excel e escreve no ficheiro\n",
    "def write_xls(inWriter,inFile,inTab):\n",
    "    inFile.to_excel(inWriter, sheet_name=inTab,index=False)\n",
    "    "
   ]
  },
  {
   "cell_type": "code",
   "execution_count": 164,
   "metadata": {},
   "outputs": [],
   "source": [
    "writer = pd.ExcelWriter(excelFileName, engine=engineName)\n",
    "\n",
    "file = extract_base(csvFile)\n",
    "\n",
    "file = transform_remove_index(file)\n",
    "write_xls(writer,file,tab1Name)\n",
    "\n",
    "maxGlobalPlatform = soma_global_sales_platform(file)\n",
    "write_xls(writer,maxGlobalPlatform,tab2Name)\n",
    "\n",
    "writer.close()\n"
   ]
  }
 ],
 "metadata": {
  "kernelspec": {
   "display_name": "Python 3",
   "language": "python",
   "name": "python3"
  },
  "language_info": {
   "codemirror_mode": {
    "name": "ipython",
    "version": 3
   },
   "file_extension": ".py",
   "mimetype": "text/x-python",
   "name": "python",
   "nbconvert_exporter": "python",
   "pygments_lexer": "ipython3",
   "version": "3.12.6"
  }
 },
 "nbformat": 4,
 "nbformat_minor": 2
}
