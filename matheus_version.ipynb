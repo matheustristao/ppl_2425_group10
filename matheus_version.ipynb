{
 "cells": [
  {
   "cell_type": "code",
   "execution_count": 23,
   "metadata": {},
   "outputs": [],
   "source": [
    "import pandas as pd"
   ]
  },
  {
   "cell_type": "code",
   "execution_count": 24,
   "metadata": {},
   "outputs": [],
   "source": [
    "#Global Variables\n",
    "\n",
    "# File names\n",
    "\n",
    "## Import\n",
    "csv_file = 'Video_Games.csv'\n",
    "\n",
    "## Export\n",
    "excel_file_name = 'ficheiro.xlsx'\n",
    "tab1_name = 'tab1'\n",
    "\n",
    "# Pandas CSV configuration\n",
    "encoding_name = 'utf8'\n",
    "separator = ','\n",
    "\n",
    "# Pandas XLS configuration\n",
    "engine_name = 'xlsxwriter'\n"
   ]
  },
  {
   "cell_type": "code",
   "execution_count": 25,
   "metadata": {},
   "outputs": [],
   "source": [
    "def extract_base():\n",
    "    return pd.read_csv(csv_file,sep=separator,encoding=encoding_name)\n",
    "\n",
    "        "
   ]
  },
  {
   "cell_type": "code",
   "execution_count": 26,
   "metadata": {},
   "outputs": [],
   "source": [
    "def export_xls(in_file):\n",
    "    writer = pd.ExcelWriter(excel_file_name, engine=engine_name)\n",
    "    in_file.to_excel(writer, sheet_name=tab1_name,index=False)\n",
    "    writer.close()"
   ]
  },
  {
   "cell_type": "code",
   "execution_count": 27,
   "metadata": {},
   "outputs": [
    {
     "name": "stdout",
     "output_type": "stream",
     "text": [
      "       index                                        Name Platform  \\\n",
      "0          0                                  Wii Sports      Wii   \n",
      "1          1                           Super Mario Bros.      NES   \n",
      "2          2                              Mario Kart Wii      Wii   \n",
      "3          3                           Wii Sports Resort      Wii   \n",
      "4          4                    Pokemon Red/Pokemon Blue       GB   \n",
      "...      ...                                         ...      ...   \n",
      "16923  16923                    Aliens: Colonial Marines      PS3   \n",
      "16924  16924  Backyard Wrestling: Don't Try This at Home      PS2   \n",
      "16925  16925                          Yakuza: Dead Souls      PS3   \n",
      "16926  16926                         Fight Night Round 2       XB   \n",
      "16927  16927           MonHun Nikki: Poka Poka Ailu Mura      PSP   \n",
      "\n",
      "       Year_of_Release         Genre          Publisher  NA_Sales  EU_Sales  \\\n",
      "0               2006.0        Sports           Nintendo     41.36     28.96   \n",
      "1               1985.0      Platform           Nintendo     29.08      3.58   \n",
      "2               2008.0        Racing           Nintendo     15.68     12.76   \n",
      "3               2009.0        Sports           Nintendo     15.61     10.93   \n",
      "4               1996.0  Role-Playing           Nintendo     11.27      8.89   \n",
      "...                ...           ...                ...       ...       ...   \n",
      "16923           2013.0       Shooter               Sega      0.20      0.29   \n",
      "16924           2003.0      Fighting  Eidos Interactive      0.30      0.23   \n",
      "16925           2011.0       Shooter               Sega      0.09      0.06   \n",
      "16926           2005.0      Fighting    Electronic Arts      0.42      0.16   \n",
      "16927           2010.0  Role-Playing             Capcom      0.00      0.00   \n",
      "\n",
      "       JP_Sales  Other_Sales  Global_Sales  Critic_Score  Critic_Count  \\\n",
      "0          3.77         8.45         82.53          76.0          51.0   \n",
      "1          6.81         0.77         40.24           NaN           NaN   \n",
      "2          3.79         3.29         35.52          82.0          73.0   \n",
      "3          3.28         2.95         32.77          80.0          73.0   \n",
      "4         10.22         1.00         31.37           NaN           NaN   \n",
      "...         ...          ...           ...           ...           ...   \n",
      "16923      0.00         0.11          0.60          43.0          25.0   \n",
      "16924      0.00         0.08          0.60          51.0          24.0   \n",
      "16925      0.42         0.03          0.60          64.0          55.0   \n",
      "16926      0.00         0.02          0.60          88.0          48.0   \n",
      "16927      0.60         0.00          0.60           NaN           NaN   \n",
      "\n",
      "      User_Score  User_Count              Developer Rating  \n",
      "0              8       322.0               Nintendo      E  \n",
      "1            NaN         NaN                    NaN    NaN  \n",
      "2            8.3       709.0               Nintendo      E  \n",
      "3              8       192.0               Nintendo      E  \n",
      "4            NaN         NaN                    NaN    NaN  \n",
      "...          ...         ...                    ...    ...  \n",
      "16923        3.6       295.0       Gearbox Software      M  \n",
      "16924        7.8        29.0    Paradox Development      M  \n",
      "16925        7.4        69.0  Ryu ga Gotoku Studios      M  \n",
      "16926        8.8        27.0              EA Sports      T  \n",
      "16927        NaN         NaN                    NaN    NaN  \n",
      "\n",
      "[16928 rows x 17 columns]\n"
     ]
    }
   ],
   "source": [
    "file = extract_base()\n",
    "export_xls(file)\n"
   ]
  }
 ],
 "metadata": {
  "kernelspec": {
   "display_name": "Python 3",
   "language": "python",
   "name": "python3"
  },
  "language_info": {
   "codemirror_mode": {
    "name": "ipython",
    "version": 3
   },
   "file_extension": ".py",
   "mimetype": "text/x-python",
   "name": "python",
   "nbconvert_exporter": "python",
   "pygments_lexer": "ipython3",
   "version": "3.12.6"
  }
 },
 "nbformat": 4,
 "nbformat_minor": 2
}
