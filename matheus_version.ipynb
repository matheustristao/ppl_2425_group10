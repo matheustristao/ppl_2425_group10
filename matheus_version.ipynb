{
 "cells": [
  {
   "cell_type": "code",
   "execution_count": 89,
   "metadata": {},
   "outputs": [],
   "source": [
    "import pandas as pd"
   ]
  },
  {
   "cell_type": "code",
   "execution_count": 90,
   "metadata": {},
   "outputs": [],
   "source": [
    "#Global Variables\n",
    "\n",
    "# File names\n",
    "## Import\n",
    "csvFile = 'vgsales-12-4-2019.csv'\n",
    "\n",
    "## Export\n",
    "excelFileName = 'ficheiro.xlsx'\n",
    "tab1Name = 'Raw Data'\n",
    "tab2Name = 'Platform Rank'\n",
    "\n",
    "# Pandas CSV configuration\n",
    "encodingName = 'utf8'\n",
    "separator = ','\n",
    "\n",
    "# Pandas XLS configuration\n",
    "engineName = 'xlsxwriter'\n"
   ]
  },
  {
   "cell_type": "code",
   "execution_count": 91,
   "metadata": {},
   "outputs": [],
   "source": [
    "# Essa função é reponsável pelo load de um ficheiro CSV \n",
    "def extract_base(inCSVName):\n",
    "    load_file = pd.read_csv(inCSVName,sep=separator,encoding=encodingName)\n",
    "    return load_file\n",
    "        "
   ]
  },
  {
   "cell_type": "code",
   "execution_count": 92,
   "metadata": {},
   "outputs": [],
   "source": [
    "# Essa função é responsável por remover a primeira coluna de index do ficheiro\n",
    "# o parâmetro axis=1 indica que o drop é na coluna.\n",
    "def transform_remove_index(inFile):\n",
    "    return inFile.drop(inFile.columns[0], axis=1)"
   ]
  },
  {
   "cell_type": "code",
   "execution_count": 93,
   "metadata": {},
   "outputs": [],
   "source": [
    "# Essa função é responsável por criar uma porcentagem de linhas null\n",
    "def count_null(inFile,inColumn):\n",
    "    totalRows = len(inFile)\n",
    "    countNull = 0\n",
    "    for i, row in inFile.iterrows():\n",
    "        if pd.isnull(row[inColumn]):\n",
    "            countNull += 1\n",
    "    porcent = round((countNull * 100) / totalRows,2)\n",
    "    return porcent\n"
   ]
  },
  {
   "cell_type": "code",
   "execution_count": 94,
   "metadata": {},
   "outputs": [],
   "source": [
    "# Função responsável por fazer um group by na coluna Platform e somar os valores de Global_Sales\n",
    "# O reset index cria indexes para a nova lista criada\n",
    "# A função sort_values ordena os dados\n",
    "def soma_global_sales_platform(inFile):\n",
    "    file = inFile.groupby('Platform')['Global_Sales'].sum().reset_index()\n",
    "    file = file.sort_values(by='Global_Sales', ascending = False).reset_index()\n",
    "    return file"
   ]
  },
  {
   "cell_type": "code",
   "execution_count": 95,
   "metadata": {},
   "outputs": [],
   "source": [
    "# Essa função recebe como parâmetro o pd.ExcelWriter, o file e a tab do excel e escreve no ficheiro\n",
    "def write_xls(inWriter,inFile,inTab):\n",
    "    inFile.to_excel(inWriter, sheet_name=inTab,index=False)\n",
    "    "
   ]
  },
  {
   "cell_type": "code",
   "execution_count": 96,
   "metadata": {},
   "outputs": [
    {
     "name": "stdout",
     "output_type": "stream",
     "text": [
      "57.66\n"
     ]
    }
   ],
   "source": [
    "writer = pd.ExcelWriter(excelFileName, engine=engineName)\n",
    "\n",
    "file = extract_base(csvFile)\n",
    "\n",
    "percentNull = count_null(file,'ESRB_Rating')\n",
    "\n",
    "file = transform_remove_index(file)\n",
    "write_xls(writer,file,tab1Name)\n",
    "\n",
    "maxGlobalPlatform = soma_global_sales_platform(file)\n",
    "write_xls(writer,maxGlobalPlatform,tab2Name)\n",
    "\n",
    "writer.close()\n"
   ]
  }
 ],
 "metadata": {
  "kernelspec": {
   "display_name": "Python 3",
   "language": "python",
   "name": "python3"
  },
  "language_info": {
   "codemirror_mode": {
    "name": "ipython",
    "version": 3
   },
   "file_extension": ".py",
   "mimetype": "text/x-python",
   "name": "python",
   "nbconvert_exporter": "python",
   "pygments_lexer": "ipython3",
   "version": "3.12.6"
  }
 },
 "nbformat": 4,
 "nbformat_minor": 2
}
