{
 "cells": [
  {
   "cell_type": "code",
   "execution_count": 13,
   "metadata": {},
   "outputs": [],
   "source": [
    "import pandas as pd"
   ]
  },
  {
   "cell_type": "code",
   "execution_count": 14,
   "metadata": {},
   "outputs": [],
   "source": [
    "#Global Variables\n",
    "\n",
    "# File names\n",
    "\n",
    "## Import\n",
    "csv_file = 'Video_Games.csv'\n",
    "\n",
    "## Export\n",
    "excel_file_name = 'ficheiro.xlsx'\n",
    "tab1_name = 'tab1'\n",
    "\n",
    "# Pandas configuration\n",
    "engine_name = 'xlsxwriter'\n",
    "encoding_name = 'utf8'\n"
   ]
  },
  {
   "cell_type": "code",
   "execution_count": 15,
   "metadata": {},
   "outputs": [],
   "source": [
    "def extract_base():\n",
    "    return pd.read_csv(csv_file,sep='\\t',encoding=encoding_name)\n",
    "        "
   ]
  },
  {
   "cell_type": "code",
   "execution_count": 16,
   "metadata": {},
   "outputs": [],
   "source": [
    "def export_xls(in_file):\n",
    "    writer = pd.ExcelWriter(excel_file_name, engine=engine_name)\n",
    "    in_file.to_excel(writer, sheet_name=tab1_name,index=False)\n",
    "    writer.close()"
   ]
  },
  {
   "cell_type": "code",
   "execution_count": 17,
   "metadata": {},
   "outputs": [],
   "source": [
    "file = extract_base()\n",
    "export_xls(file)\n"
   ]
  }
 ],
 "metadata": {
  "kernelspec": {
   "display_name": "Python 3",
   "language": "python",
   "name": "python3"
  },
  "language_info": {
   "codemirror_mode": {
    "name": "ipython",
    "version": 3
   },
   "file_extension": ".py",
   "mimetype": "text/x-python",
   "name": "python",
   "nbconvert_exporter": "python",
   "pygments_lexer": "ipython3",
   "version": "3.12.6"
  }
 },
 "nbformat": 4,
 "nbformat_minor": 2
}
