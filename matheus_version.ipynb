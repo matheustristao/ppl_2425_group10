{
 "cells": [
  {
   "cell_type": "code",
   "execution_count": 2,
   "metadata": {},
   "outputs": [],
   "source": [
    "import pandas as pd"
   ]
  },
  {
   "cell_type": "code",
   "execution_count": 3,
   "metadata": {},
   "outputs": [],
   "source": [
    "def extract_base():\n",
    "        file = pd.read_csv('vgsales-12-4-2019.csv',sep='\\t',encoding='utf8')\n",
    "        print(file)"
   ]
  },
  {
   "cell_type": "code",
   "execution_count": 4,
   "metadata": {},
   "outputs": [
    {
     "name": "stdout",
     "output_type": "stream",
     "text": [
      "      Rank,Name,basename,Genre,ESRB_Rating,Platform,Publisher,Developer,VGChartz_Score,Critic_Score,User_Score,Total_Shipped,Global_Sales,NA_Sales,PAL_Sales,JP_Sales,Other_Sales,Year,Last_Update,url,status,Vgchartzscore,img_url\n",
      "0      1,Wii Sports,wii-sports,Sports,E,Wii,Nintendo,...                                                                                                                                                                           \n",
      "1      2,Super Mario Bros.,super-mario-bros,Platform,...                                                                                                                                                                           \n",
      "2      3,Mario Kart Wii,mario-kart-wii,Racing,E,Wii,N...                                                                                                                                                                           \n",
      "3      4,PlayerUnknown's Battlegrounds,playerunknowns...                                                                                                                                                                           \n",
      "4      5,Wii Sports Resort,wii-sports-resort,Sports,E...                                                                                                                                                                           \n",
      "...                                                  ...                                                                                                                                                                           \n",
      "55787  55788,Indivisible,indivisible,Role-Playing,,PC...                                                                                                                                                                           \n",
      "55788  55789,Lost Ember,lost-amber,Adventure,RP,PC,Mo...                                                                                                                                                                           \n",
      "55789  55790,Lost Ember,lost-amber,Adventure,RP,PS4,M...                                                                                                                                                                           \n",
      "55790  55791,Lost Ember,lost-amber,Adventure,RP,XOne,...                                                                                                                                                                           \n",
      "55791  55792,Falcon Age,falcon-age,Action-Adventure,,...                                                                                                                                                                           \n",
      "\n",
      "[55792 rows x 1 columns]\n"
     ]
    }
   ],
   "source": [
    "extract_base()"
   ]
  }
 ],
 "metadata": {
  "kernelspec": {
   "display_name": "Python 3",
   "language": "python",
   "name": "python3"
  },
  "language_info": {
   "codemirror_mode": {
    "name": "ipython",
    "version": 3
   },
   "file_extension": ".py",
   "mimetype": "text/x-python",
   "name": "python",
   "nbconvert_exporter": "python",
   "pygments_lexer": "ipython3",
   "version": "3.12.6"
  }
 },
 "nbformat": 4,
 "nbformat_minor": 2
}
