{
 "cells": [
  {
   "cell_type": "code",
   "execution_count": 494,
   "metadata": {},
   "outputs": [],
   "source": [
    "import pandas as pd"
   ]
  },
  {
   "cell_type": "code",
   "execution_count": 495,
   "metadata": {},
   "outputs": [],
   "source": [
    "#Global Variables\n",
    "\n",
    "# File names\n",
    "## Import\n",
    "csvFile = 'vgsales-12-4-2019.csv'\n",
    "\n",
    "## Export\n",
    "excelFileName = 'ficheiro.xlsx'\n",
    "tab1Name = 'Raw Data'\n",
    "tab2Name = 'Platform Rank'\n",
    "\n",
    "# Pandas CSV configuration\n",
    "encodingName = 'utf8'\n",
    "separator = ','\n",
    "\n",
    "# Pandas XLS configuration\n",
    "engineName = 'xlsxwriter'\n"
   ]
  },
  {
   "cell_type": "code",
   "execution_count": 496,
   "metadata": {},
   "outputs": [],
   "source": [
    "# Essa função é reponsável pelo load de um ficheiro CSV \n",
    "def extract_base(inCSVName):\n",
    "    load_file = pd.read_csv(inCSVName,sep=separator,encoding=encodingName)\n",
    "    return load_file\n",
    "        "
   ]
  },
  {
   "cell_type": "code",
   "execution_count": 497,
   "metadata": {},
   "outputs": [],
   "source": [
    "# Essa função é responsável por remover a primeira coluna de index do ficheiro\n",
    "# o parâmetro axis=1 indica que o drop é na coluna.\n",
    "def transform_remove_index(inFile):\n",
    "    return inFile.drop(inFile.columns[0], axis=1)"
   ]
  },
  {
   "cell_type": "code",
   "execution_count": 498,
   "metadata": {},
   "outputs": [],
   "source": [
    "# Essa função é responsável por criar uma porcentagem de linhas null\n",
    "def count_null(inFile,inColumn):\n",
    "    totalRows = len(inFile)\n",
    "    countNull = 0\n",
    "    for i, row in inFile.iterrows():\n",
    "        if pd.isnull(row[inColumn]):\n",
    "            countNull += 1\n",
    "    porcent = round((countNull * 100) / totalRows,2)\n",
    "    return porcent\n"
   ]
  },
  {
   "cell_type": "code",
   "execution_count": 499,
   "metadata": {},
   "outputs": [],
   "source": [
    "# Essa função converte uma coluna para int, mas antes preenche null values como 0\n",
    "def convert_int(inFile,inColumn):\n",
    "    inFile[inColumn] = inFile[inColumn].fillna(0)\n",
    "    inFile[inColumn] = inFile[inColumn].astype(int)\n",
    "    return inFile"
   ]
  },
  {
   "cell_type": "code",
   "execution_count": 500,
   "metadata": {},
   "outputs": [],
   "source": [
    "# Função responsável por fazer um group by na coluna Platform e somar os valores de Global_Sales\n",
    "# O reset index cria indexes para a nova lista criada\n",
    "# A função sort_values ordena os dados\n",
    "def soma_global_sales_platform(inFile):\n",
    "    file = inFile.groupby('Platform')['Global_Sales'].sum().reset_index()\n",
    "    file = file.sort_values(by='Global_Sales', ascending = False).reset_index()\n",
    "    return file"
   ]
  },
  {
   "cell_type": "code",
   "execution_count": 501,
   "metadata": {},
   "outputs": [],
   "source": [
    "# Essa função recebe como parâmetro o pd.ExcelWriter, o file e a tab do excel e escreve no ficheiro\n",
    "def write_xls(inWriter,inFile,inTab):\n",
    "    inFile.to_excel(inWriter, sheet_name=inTab,index=False)\n",
    "    "
   ]
  },
  {
   "cell_type": "code",
   "execution_count": 502,
   "metadata": {},
   "outputs": [
    {
     "name": "stdout",
     "output_type": "stream",
     "text": [
      "   Rank                           Name                      basename  \\\n",
      "0     1                     Wii Sports                    wii-sports   \n",
      "1     2              Super Mario Bros.              super-mario-bros   \n",
      "2     3                 Mario Kart Wii                mario-kart-wii   \n",
      "3     4  PlayerUnknown's Battlegrounds  playerunknowns-battlegrounds   \n",
      "4     5              Wii Sports Resort             wii-sports-resort   \n",
      "\n",
      "      Genre ESRB_Rating Platform         Publisher         Developer  \\\n",
      "0    Sports           E      Wii          Nintendo      Nintendo EAD   \n",
      "1  Platform         NaN      NES          Nintendo      Nintendo EAD   \n",
      "2    Racing           E      Wii          Nintendo      Nintendo EAD   \n",
      "3   Shooter         NaN       PC  PUBG Corporation  PUBG Corporation   \n",
      "4    Sports           E      Wii          Nintendo      Nintendo EAD   \n",
      "\n",
      "   VGChartz_Score  Critic_Score  ...  NA_Sales  PAL_Sales  JP_Sales  \\\n",
      "0             NaN           7.7  ...       NaN        NaN       NaN   \n",
      "1             NaN          10.0  ...       NaN        NaN       NaN   \n",
      "2             NaN           8.2  ...       NaN        NaN       NaN   \n",
      "3             NaN           NaN  ...       NaN        NaN       NaN   \n",
      "4             NaN           8.0  ...       NaN        NaN       NaN   \n",
      "\n",
      "   Other_Sales  Year  Last_Update  \\\n",
      "0          NaN  2006          NaN   \n",
      "1          NaN  1985          NaN   \n",
      "2          NaN  2008  11th Apr 18   \n",
      "3          NaN  2017  13th Nov 18   \n",
      "4          NaN  2009          NaN   \n",
      "\n",
      "                                                 url  status Vgchartzscore  \\\n",
      "0  http://www.vgchartz.com/game/2667/wii-sports/?...       1           NaN   \n",
      "1  http://www.vgchartz.com/game/6455/super-mario-...       1           NaN   \n",
      "2  http://www.vgchartz.com/game/6968/mario-kart-w...       1           8.7   \n",
      "3  http://www.vgchartz.com/game/215988/playerunkn...       1           NaN   \n",
      "4  http://www.vgchartz.com/game/24656/wii-sports-...       1           8.8   \n",
      "\n",
      "                                         img_url  \n",
      "0  /games/boxart/full_2258645AmericaFrontccc.jpg  \n",
      "1                   /games/boxart/8972270ccc.jpg  \n",
      "2  /games/boxart/full_8932480AmericaFrontccc.jpg  \n",
      "3  /games/boxart/full_8052843AmericaFrontccc.jpg  \n",
      "4  /games/boxart/full_7295041AmericaFrontccc.jpg  \n",
      "\n",
      "[5 rows x 23 columns]\n"
     ]
    }
   ],
   "source": [
    "writer = pd.ExcelWriter(excelFileName, engine=engineName)\n",
    "\n",
    "file = extract_base(csvFile)\n",
    "\n",
    "percentNull = count_null(file,'ESRB_Rating')\n",
    "file = convert_int(file,'Year')\n",
    "\n",
    "file = transform_remove_index(file)\n",
    "write_xls(writer,file,tab1Name)\n",
    "\n",
    "maxGlobalPlatform = soma_global_sales_platform(file)\n",
    "write_xls(writer,maxGlobalPlatform,tab2Name)\n",
    "\n",
    "writer.close()\n"
   ]
  }
 ],
 "metadata": {
  "kernelspec": {
   "display_name": "Python 3",
   "language": "python",
   "name": "python3"
  },
  "language_info": {
   "codemirror_mode": {
    "name": "ipython",
    "version": 3
   },
   "file_extension": ".py",
   "mimetype": "text/x-python",
   "name": "python",
   "nbconvert_exporter": "python",
   "pygments_lexer": "ipython3",
   "version": "3.12.6"
  }
 },
 "nbformat": 4,
 "nbformat_minor": 2
}
